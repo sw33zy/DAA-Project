{
  "nbformat": 4,
  "nbformat_minor": 0,
  "metadata": {
    "colab": {
      "name": "DAAcompeticao.ipynb",
      "provenance": [],
      "collapsed_sections": []
    },
    "kernelspec": {
      "name": "python3",
      "display_name": "Python 3"
    },
    "language_info": {
      "name": "python"
    }
  },
  "cells": [
    {
      "cell_type": "code",
      "metadata": {
        "id": "CkdgLcWBjGbx"
      },
      "source": [
        "import pandas as pd\n",
        "import numpy as np\n",
        "import matplotlib.pyplot as plt\n",
        "import seaborn as sns"
      ],
      "execution_count": null,
      "outputs": []
    },
    {
      "cell_type": "code",
      "metadata": {
        "id": "XFBl9TaSmTbY"
      },
      "source": [
        "df = pd.read_csv('training_data.csv', encoding='latin-1')\n",
        "dfTest = pd.read_csv('test_data.csv', encoding='latin-1')"
      ],
      "execution_count": null,
      "outputs": []
    },
    {
      "cell_type": "code",
      "source": [
        "df.describe()"
      ],
      "metadata": {
        "colab": {
          "base_uri": "https://localhost:8080/",
          "height": 300
        },
        "id": "4mvJaJtBIDSf",
        "outputId": "e3e7c3b5-2343-434c-d21e-5b585223d089"
      },
      "execution_count": null,
      "outputs": [
        {
          "output_type": "execute_result",
          "data": {
            "text/html": [
              "\n",
              "  <div id=\"df-54e194c9-61db-4307-a467-9636cacde30e\">\n",
              "    <div class=\"colab-df-container\">\n",
              "      <div>\n",
              "<style scoped>\n",
              "    .dataframe tbody tr th:only-of-type {\n",
              "        vertical-align: middle;\n",
              "    }\n",
              "\n",
              "    .dataframe tbody tr th {\n",
              "        vertical-align: top;\n",
              "    }\n",
              "\n",
              "    .dataframe thead th {\n",
              "        text-align: right;\n",
              "    }\n",
              "</style>\n",
              "<table border=\"1\" class=\"dataframe\">\n",
              "  <thead>\n",
              "    <tr style=\"text-align: right;\">\n",
              "      <th></th>\n",
              "      <th>AVERAGE_FREE_FLOW_SPEED</th>\n",
              "      <th>AVERAGE_TIME_DIFF</th>\n",
              "      <th>AVERAGE_FREE_FLOW_TIME</th>\n",
              "      <th>AVERAGE_TEMPERATURE</th>\n",
              "      <th>AVERAGE_ATMOSP_PRESSURE</th>\n",
              "      <th>AVERAGE_HUMIDITY</th>\n",
              "      <th>AVERAGE_WIND_SPEED</th>\n",
              "      <th>AVERAGE_PRECIPITATION</th>\n",
              "    </tr>\n",
              "  </thead>\n",
              "  <tbody>\n",
              "    <tr>\n",
              "      <th>count</th>\n",
              "      <td>6812.000000</td>\n",
              "      <td>6812.000000</td>\n",
              "      <td>6812.000000</td>\n",
              "      <td>6812.000000</td>\n",
              "      <td>6812.000000</td>\n",
              "      <td>6812.000000</td>\n",
              "      <td>6812.000000</td>\n",
              "      <td>6812.0</td>\n",
              "    </tr>\n",
              "    <tr>\n",
              "      <th>mean</th>\n",
              "      <td>40.661010</td>\n",
              "      <td>25.637111</td>\n",
              "      <td>81.143952</td>\n",
              "      <td>16.193482</td>\n",
              "      <td>1017.388139</td>\n",
              "      <td>80.084190</td>\n",
              "      <td>3.058573</td>\n",
              "      <td>0.0</td>\n",
              "    </tr>\n",
              "    <tr>\n",
              "      <th>std</th>\n",
              "      <td>4.119023</td>\n",
              "      <td>33.510507</td>\n",
              "      <td>8.294401</td>\n",
              "      <td>5.163492</td>\n",
              "      <td>5.751061</td>\n",
              "      <td>18.238863</td>\n",
              "      <td>2.138421</td>\n",
              "      <td>0.0</td>\n",
              "    </tr>\n",
              "    <tr>\n",
              "      <th>min</th>\n",
              "      <td>30.500000</td>\n",
              "      <td>0.000000</td>\n",
              "      <td>46.400000</td>\n",
              "      <td>0.000000</td>\n",
              "      <td>985.000000</td>\n",
              "      <td>14.000000</td>\n",
              "      <td>0.000000</td>\n",
              "      <td>0.0</td>\n",
              "    </tr>\n",
              "    <tr>\n",
              "      <th>25%</th>\n",
              "      <td>37.600000</td>\n",
              "      <td>2.275000</td>\n",
              "      <td>75.400000</td>\n",
              "      <td>13.000000</td>\n",
              "      <td>1015.000000</td>\n",
              "      <td>69.750000</td>\n",
              "      <td>1.000000</td>\n",
              "      <td>0.0</td>\n",
              "    </tr>\n",
              "    <tr>\n",
              "      <th>50%</th>\n",
              "      <td>40.700000</td>\n",
              "      <td>12.200000</td>\n",
              "      <td>82.400000</td>\n",
              "      <td>16.000000</td>\n",
              "      <td>1017.000000</td>\n",
              "      <td>83.000000</td>\n",
              "      <td>3.000000</td>\n",
              "      <td>0.0</td>\n",
              "    </tr>\n",
              "    <tr>\n",
              "      <th>75%</th>\n",
              "      <td>43.500000</td>\n",
              "      <td>36.200000</td>\n",
              "      <td>87.400000</td>\n",
              "      <td>19.000000</td>\n",
              "      <td>1021.000000</td>\n",
              "      <td>93.000000</td>\n",
              "      <td>4.000000</td>\n",
              "      <td>0.0</td>\n",
              "    </tr>\n",
              "    <tr>\n",
              "      <th>max</th>\n",
              "      <td>55.900000</td>\n",
              "      <td>296.500000</td>\n",
              "      <td>112.000000</td>\n",
              "      <td>35.000000</td>\n",
              "      <td>1033.000000</td>\n",
              "      <td>100.000000</td>\n",
              "      <td>14.000000</td>\n",
              "      <td>0.0</td>\n",
              "    </tr>\n",
              "  </tbody>\n",
              "</table>\n",
              "</div>\n",
              "      <button class=\"colab-df-convert\" onclick=\"convertToInteractive('df-54e194c9-61db-4307-a467-9636cacde30e')\"\n",
              "              title=\"Convert this dataframe to an interactive table.\"\n",
              "              style=\"display:none;\">\n",
              "        \n",
              "  <svg xmlns=\"http://www.w3.org/2000/svg\" height=\"24px\"viewBox=\"0 0 24 24\"\n",
              "       width=\"24px\">\n",
              "    <path d=\"M0 0h24v24H0V0z\" fill=\"none\"/>\n",
              "    <path d=\"M18.56 5.44l.94 2.06.94-2.06 2.06-.94-2.06-.94-.94-2.06-.94 2.06-2.06.94zm-11 1L8.5 8.5l.94-2.06 2.06-.94-2.06-.94L8.5 2.5l-.94 2.06-2.06.94zm10 10l.94 2.06.94-2.06 2.06-.94-2.06-.94-.94-2.06-.94 2.06-2.06.94z\"/><path d=\"M17.41 7.96l-1.37-1.37c-.4-.4-.92-.59-1.43-.59-.52 0-1.04.2-1.43.59L10.3 9.45l-7.72 7.72c-.78.78-.78 2.05 0 2.83L4 21.41c.39.39.9.59 1.41.59.51 0 1.02-.2 1.41-.59l7.78-7.78 2.81-2.81c.8-.78.8-2.07 0-2.86zM5.41 20L4 18.59l7.72-7.72 1.47 1.35L5.41 20z\"/>\n",
              "  </svg>\n",
              "      </button>\n",
              "      \n",
              "  <style>\n",
              "    .colab-df-container {\n",
              "      display:flex;\n",
              "      flex-wrap:wrap;\n",
              "      gap: 12px;\n",
              "    }\n",
              "\n",
              "    .colab-df-convert {\n",
              "      background-color: #E8F0FE;\n",
              "      border: none;\n",
              "      border-radius: 50%;\n",
              "      cursor: pointer;\n",
              "      display: none;\n",
              "      fill: #1967D2;\n",
              "      height: 32px;\n",
              "      padding: 0 0 0 0;\n",
              "      width: 32px;\n",
              "    }\n",
              "\n",
              "    .colab-df-convert:hover {\n",
              "      background-color: #E2EBFA;\n",
              "      box-shadow: 0px 1px 2px rgba(60, 64, 67, 0.3), 0px 1px 3px 1px rgba(60, 64, 67, 0.15);\n",
              "      fill: #174EA6;\n",
              "    }\n",
              "\n",
              "    [theme=dark] .colab-df-convert {\n",
              "      background-color: #3B4455;\n",
              "      fill: #D2E3FC;\n",
              "    }\n",
              "\n",
              "    [theme=dark] .colab-df-convert:hover {\n",
              "      background-color: #434B5C;\n",
              "      box-shadow: 0px 1px 3px 1px rgba(0, 0, 0, 0.15);\n",
              "      filter: drop-shadow(0px 1px 2px rgba(0, 0, 0, 0.3));\n",
              "      fill: #FFFFFF;\n",
              "    }\n",
              "  </style>\n",
              "\n",
              "      <script>\n",
              "        const buttonEl =\n",
              "          document.querySelector('#df-54e194c9-61db-4307-a467-9636cacde30e button.colab-df-convert');\n",
              "        buttonEl.style.display =\n",
              "          google.colab.kernel.accessAllowed ? 'block' : 'none';\n",
              "\n",
              "        async function convertToInteractive(key) {\n",
              "          const element = document.querySelector('#df-54e194c9-61db-4307-a467-9636cacde30e');\n",
              "          const dataTable =\n",
              "            await google.colab.kernel.invokeFunction('convertToInteractive',\n",
              "                                                     [key], {});\n",
              "          if (!dataTable) return;\n",
              "\n",
              "          const docLinkHtml = 'Like what you see? Visit the ' +\n",
              "            '<a target=\"_blank\" href=https://colab.research.google.com/notebooks/data_table.ipynb>data table notebook</a>'\n",
              "            + ' to learn more about interactive tables.';\n",
              "          element.innerHTML = '';\n",
              "          dataTable['output_type'] = 'display_data';\n",
              "          await google.colab.output.renderOutput(dataTable, element);\n",
              "          const docLink = document.createElement('div');\n",
              "          docLink.innerHTML = docLinkHtml;\n",
              "          element.appendChild(docLink);\n",
              "        }\n",
              "      </script>\n",
              "    </div>\n",
              "  </div>\n",
              "  "
            ],
            "text/plain": [
              "       AVERAGE_FREE_FLOW_SPEED  ...  AVERAGE_PRECIPITATION\n",
              "count              6812.000000  ...                 6812.0\n",
              "mean                 40.661010  ...                    0.0\n",
              "std                   4.119023  ...                    0.0\n",
              "min                  30.500000  ...                    0.0\n",
              "25%                  37.600000  ...                    0.0\n",
              "50%                  40.700000  ...                    0.0\n",
              "75%                  43.500000  ...                    0.0\n",
              "max                  55.900000  ...                    0.0\n",
              "\n",
              "[8 rows x 8 columns]"
            ]
          },
          "metadata": {},
          "execution_count": 3
        }
      ]
    },
    {
      "cell_type": "code",
      "metadata": {
        "id": "euSPxlTamd5u",
        "colab": {
          "base_uri": "https://localhost:8080/"
        },
        "outputId": "4ae5f011-a173-4586-9ad5-0945aebbba6a"
      },
      "source": [
        "df.info()"
      ],
      "execution_count": null,
      "outputs": [
        {
          "output_type": "stream",
          "name": "stdout",
          "text": [
            "<class 'pandas.core.frame.DataFrame'>\n",
            "RangeIndex: 6812 entries, 0 to 6811\n",
            "Data columns (total 14 columns):\n",
            " #   Column                   Non-Null Count  Dtype  \n",
            "---  ------                   --------------  -----  \n",
            " 0   city_name                6812 non-null   object \n",
            " 1   record_date              6812 non-null   object \n",
            " 2   AVERAGE_SPEED_DIFF       6812 non-null   object \n",
            " 3   AVERAGE_FREE_FLOW_SPEED  6812 non-null   float64\n",
            " 4   AVERAGE_TIME_DIFF        6812 non-null   float64\n",
            " 5   AVERAGE_FREE_FLOW_TIME   6812 non-null   float64\n",
            " 6   LUMINOSITY               6812 non-null   object \n",
            " 7   AVERAGE_TEMPERATURE      6812 non-null   float64\n",
            " 8   AVERAGE_ATMOSP_PRESSURE  6812 non-null   float64\n",
            " 9   AVERAGE_HUMIDITY         6812 non-null   float64\n",
            " 10  AVERAGE_WIND_SPEED       6812 non-null   float64\n",
            " 11  AVERAGE_CLOUDINESS       4130 non-null   object \n",
            " 12  AVERAGE_PRECIPITATION    6812 non-null   float64\n",
            " 13  AVERAGE_RAIN             563 non-null    object \n",
            "dtypes: float64(8), object(6)\n",
            "memory usage: 745.2+ KB\n"
          ]
        }
      ]
    },
    {
      "cell_type": "code",
      "source": [
        "corr_matrix = df.corr()\n",
        "f, ax = plt.subplots(figsize=(8, 6))\n",
        "sns.heatmap(corr_matrix, vmin= -1, vmax = 1, square=True, annot =True);"
      ],
      "metadata": {
        "colab": {
          "base_uri": "https://localhost:8080/",
          "height": 518
        },
        "id": "lncTGiTsHeSe",
        "outputId": "6857b543-f4a0-43e9-d7f5-a796fe778b3f"
      },
      "execution_count": null,
      "outputs": [
        {
          "output_type": "display_data",
          "data": {
            "image/png": "[encoded data removed]",
            "text/plain": [
              "<Figure size 576x432 with 2 Axes>"
            ]
          },
          "metadata": {
            "needs_background": "light"
          }
        }
      ]
    },
    {
      "cell_type": "code",
      "metadata": {
        "colab": {
          "base_uri": "https://localhost:8080/"
        },
        "id": "7RQRW8S-PR5R",
        "outputId": "6d1f3b49-1a80-41a1-c91a-78c45c45bbe3"
      },
      "source": [
        "print(df['city_name'].value_counts())\n",
        "print(dfTest['city_name'].value_counts())"
      ],
      "execution_count": null,
      "outputs": [
        {
          "output_type": "stream",
          "name": "stdout",
          "text": [
            "Porto    6812\n",
            "Name: city_name, dtype: int64\n",
            "Porto    1500\n",
            "Name: city_name, dtype: int64\n"
          ]
        }
      ]
    },
    {
      "cell_type": "code",
      "metadata": {
        "id": "40_v4fKUPmcR"
      },
      "source": [
        "df = df.drop('city_name', axis=1)\n",
        "dfTest = dfTest.drop('city_name', axis=1)"
      ],
      "execution_count": null,
      "outputs": []
    },
    {
      "cell_type": "code",
      "source": [
        "print(df[\"AVERAGE_SPEED_DIFF\"].value_counts())"
      ],
      "metadata": {
        "colab": {
          "base_uri": "https://localhost:8080/"
        },
        "id": "SVBhgbNOUoTm",
        "outputId": "04ac9641-4a13-4c51-c59b-e54cb529b401"
      },
      "execution_count": null,
      "outputs": [
        {
          "output_type": "stream",
          "name": "stdout",
          "text": [
            "None         2200\n",
            "Medium       1651\n",
            "Low          1419\n",
            "High         1063\n",
            "Very_High     479\n",
            "Name: AVERAGE_SPEED_DIFF, dtype: int64\n"
          ]
        }
      ]
    },
    {
      "cell_type": "code",
      "source": [
        "sns.histplot(df['AVERAGE_FREE_FLOW_SPEED'], kde=True);"
      ],
      "metadata": {
        "colab": {
          "base_uri": "https://localhost:8080/",
          "height": 280
        },
        "id": "g-qIFUKEWNg7",
        "outputId": "09ba220e-52d6-4ad2-a094-394dc278bb63"
      },
      "execution_count": null,
      "outputs": [
        {
          "output_type": "display_data",
          "data": {
            "image/png": "[encoded data removed]",
            "text/plain": [
              "<Figure size 432x288 with 1 Axes>"
            ]
          },
          "metadata": {
            "needs_background": "light"
          }
        }
      ]
    },
    {
      "cell_type": "code",
      "source": [
        "sns.boxplot(x=df[\"AVERAGE_SPEED_DIFF\"], y=df['AVERAGE_FREE_FLOW_SPEED'])"
      ],
      "metadata": {
        "colab": {
          "base_uri": "https://localhost:8080/",
          "height": 299
        },
        "id": "6J-4KwEfWik2",
        "outputId": "a07116c0-e3cd-4570-b383-a80ffb3ae38a"
      },
      "execution_count": null,
      "outputs": [
        {
          "output_type": "execute_result",
          "data": {
            "text/plain": [
              "<matplotlib.axes._subplots.AxesSubplot at 0x7f91552ba150>"
            ]
          },
          "metadata": {},
          "execution_count": 10
        },
        {
          "output_type": "display_data",
          "data": {
            "image/png": "[encoded data removed]",
            "text/plain": [
              "<Figure size 432x288 with 1 Axes>"
            ]
          },
          "metadata": {
            "needs_background": "light"
          }
        }
      ]
    },
    {
      "cell_type": "code",
      "metadata": {
        "colab": {
          "base_uri": "https://localhost:8080/",
          "height": 280
        },
        "id": "EywcGpN-XQ_U",
        "outputId": "5f9e5e75-7d01-495d-ed03-0fbb776f40be"
      },
      "source": [
        "sns.histplot(df['AVERAGE_TIME_DIFF'], kde=True);"
      ],
      "execution_count": null,
      "outputs": [
        {
          "output_type": "display_data",
          "data": {
            "image/png": "[encoded data removed]",
            "text/plain": [
              "<Figure size 432x288 with 1 Axes>"
            ]
          },
          "metadata": {
            "needs_background": "light"
          }
        }
      ]
    },
    {
      "cell_type": "code",
      "metadata": {
        "colab": {
          "base_uri": "https://localhost:8080/",
          "height": 281
        },
        "id": "m0vFm4I0a6J3",
        "outputId": "2ec144b7-99a4-458e-831f-318f275cdce0"
      },
      "source": [
        "ax = sns.boxplot(x=df[\"AVERAGE_SPEED_DIFF\"], y=df[\"AVERAGE_TIME_DIFF\"])"
      ],
      "execution_count": null,
      "outputs": [
        {
          "output_type": "display_data",
          "data": {
            "image/png": "[encoded data removed]",
            "text/plain": [
              "<Figure size 432x288 with 1 Axes>"
            ]
          },
          "metadata": {
            "needs_background": "light"
          }
        }
      ]
    },
    {
      "cell_type": "code",
      "metadata": {
        "colab": {
          "base_uri": "https://localhost:8080/",
          "height": 280
        },
        "id": "Sz5L3VKVaJx0",
        "outputId": "956c64f5-5578-4f30-aadb-1932f8fee551"
      },
      "source": [
        "sns.histplot(df['AVERAGE_FREE_FLOW_TIME'], kde=True);"
      ],
      "execution_count": null,
      "outputs": [
        {
          "output_type": "display_data",
          "data": {
            "image/png": "[encoded data removed]",
            "text/plain": [
              "<Figure size 432x288 with 1 Axes>"
            ]
          },
          "metadata": {
            "needs_background": "light"
          }
        }
      ]
    },
    {
      "cell_type": "code",
      "metadata": {
        "colab": {
          "base_uri": "https://localhost:8080/",
          "height": 281
        },
        "id": "Mk0xryXhbWi3",
        "outputId": "fd47e9ab-65df-4567-cc6e-9ead290ef9e1"
      },
      "source": [
        "ax = sns.boxplot(x=df[\"AVERAGE_SPEED_DIFF\"], y=df['AVERAGE_FREE_FLOW_TIME'])"
      ],
      "execution_count": null,
      "outputs": [
        {
          "output_type": "display_data",
          "data": {
            "image/png": "[encoded data removed]",
            "text/plain": [
              "<Figure size 432x288 with 1 Axes>"
            ]
          },
          "metadata": {
            "needs_background": "light"
          }
        }
      ]
    },
    {
      "cell_type": "code",
      "source": [
        "print(df[\"LUMINOSITY\"].value_counts())"
      ],
      "metadata": {
        "colab": {
          "base_uri": "https://localhost:8080/"
        },
        "id": "cCxGpfITi7qn",
        "outputId": "e965dd91-f03d-438e-a9b3-ccff7349b995"
      },
      "execution_count": null,
      "outputs": [
        {
          "output_type": "stream",
          "name": "stdout",
          "text": [
            "LIGHT        3293\n",
            "DARK         3253\n",
            "LOW_LIGHT     266\n",
            "Name: LUMINOSITY, dtype: int64\n"
          ]
        }
      ]
    },
    {
      "cell_type": "code",
      "source": [
        "sns.histplot(df['AVERAGE_TEMPERATURE'], kde=True);"
      ],
      "metadata": {
        "colab": {
          "base_uri": "https://localhost:8080/",
          "height": 280
        },
        "id": "twGNWwlWj2lE",
        "outputId": "53f1d273-a6c6-418c-912b-0bb7f8132578"
      },
      "execution_count": null,
      "outputs": [
        {
          "output_type": "display_data",
          "data": {
            "image/png": "[encoded data removed]",
            "text/plain": [
              "<Figure size 432x288 with 1 Axes>"
            ]
          },
          "metadata": {
            "needs_background": "light"
          }
        }
      ]
    },
    {
      "cell_type": "code",
      "source": [
        "ax = sns.boxplot(x=df[\"AVERAGE_SPEED_DIFF\"], y=df['AVERAGE_TEMPERATURE'])"
      ],
      "metadata": {
        "colab": {
          "base_uri": "https://localhost:8080/",
          "height": 281
        },
        "id": "yC7IbBPvj7Lo",
        "outputId": "24273803-76d5-45ff-a1b9-df9ad6645be1"
      },
      "execution_count": null,
      "outputs": [
        {
          "output_type": "display_data",
          "data": {
            "image/png": "[encoded data removed]",
            "text/plain": [
              "<Figure size 432x288 with 1 Axes>"
            ]
          },
          "metadata": {
            "needs_background": "light"
          }
        }
      ]
    },
    {
      "cell_type": "code",
      "source": [
        "sns.histplot(df['AVERAGE_ATMOSP_PRESSURE'], kde=True);"
      ],
      "metadata": {
        "colab": {
          "base_uri": "https://localhost:8080/",
          "height": 280
        },
        "id": "nNpuQuOzl4It",
        "outputId": "a921d5e9-32ec-431b-c1de-e872a7e7a6c0"
      },
      "execution_count": null,
      "outputs": [
        {
          "output_type": "display_data",
          "data": {
            "image/png": "[encoded data removed]",
            "text/plain": [
              "<Figure size 432x288 with 1 Axes>"
            ]
          },
          "metadata": {
            "needs_background": "light"
          }
        }
      ]
    },
    {
      "cell_type": "code",
      "source": [
        "ax = sns.boxplot(x=df[\"AVERAGE_SPEED_DIFF\"], y=df['AVERAGE_ATMOSP_PRESSURE'])"
      ],
      "metadata": {
        "colab": {
          "base_uri": "https://localhost:8080/",
          "height": 281
        },
        "id": "fld58WkGmEQ_",
        "outputId": "c354b486-b117-4ebd-c1cb-99623ed065b3"
      },
      "execution_count": null,
      "outputs": [
        {
          "output_type": "display_data",
          "data": {
            "image/png": "[encoded data removed]",
            "text/plain": [
              "<Figure size 432x288 with 1 Axes>"
            ]
          },
          "metadata": {
            "needs_background": "light"
          }
        }
      ]
    },
    {
      "cell_type": "code",
      "metadata": {
        "colab": {
          "base_uri": "https://localhost:8080/",
          "height": 280
        },
        "id": "YwSRU14wad9_",
        "outputId": "bfe4980e-8fa9-4953-fc89-9f02e1bf32cc"
      },
      "source": [
        "sns.histplot(df['AVERAGE_HUMIDITY'], kde=True);"
      ],
      "execution_count": null,
      "outputs": [
        {
          "output_type": "display_data",
          "data": {
            "image/png": "[encoded data removed]",
            "text/plain": [
              "<Figure size 432x288 with 1 Axes>"
            ]
          },
          "metadata": {
            "needs_background": "light"
          }
        }
      ]
    },
    {
      "cell_type": "code",
      "metadata": {
        "colab": {
          "base_uri": "https://localhost:8080/",
          "height": 281
        },
        "id": "IsGLHk1UbkBg",
        "outputId": "b95e21a9-9920-4687-b24a-691f0d96270b"
      },
      "source": [
        "ax = sns.boxplot(x=df[\"AVERAGE_SPEED_DIFF\"], y=df[\"AVERAGE_HUMIDITY\"])"
      ],
      "execution_count": null,
      "outputs": [
        {
          "output_type": "display_data",
          "data": {
            "image/png": "[encoded data removed]",
            "text/plain": [
              "<Figure size 432x288 with 1 Axes>"
            ]
          },
          "metadata": {
            "needs_background": "light"
          }
        }
      ]
    },
    {
      "cell_type": "code",
      "source": [
        "sns.histplot(df['AVERAGE_WIND_SPEED'], kde=True);"
      ],
      "metadata": {
        "colab": {
          "base_uri": "https://localhost:8080/",
          "height": 280
        },
        "id": "755c2Aa2tPsG",
        "outputId": "d8fadb9b-5fc8-4f3d-f97f-a26afc7be5b3"
      },
      "execution_count": null,
      "outputs": [
        {
          "output_type": "display_data",
          "data": {
            "image/png": "[encoded data removed]",
            "text/plain": [
              "<Figure size 432x288 with 1 Axes>"
            ]
          },
          "metadata": {
            "needs_background": "light"
          }
        }
      ]
    },
    {
      "cell_type": "code",
      "source": [
        "ax = sns.boxplot(x=df[\"AVERAGE_SPEED_DIFF\"], y=df[\"AVERAGE_WIND_SPEED\"])"
      ],
      "metadata": {
        "colab": {
          "base_uri": "https://localhost:8080/",
          "height": 281
        },
        "id": "hNRjVCaitTid",
        "outputId": "504d3d4e-ed13-4a13-8d15-7b5834156833"
      },
      "execution_count": null,
      "outputs": [
        {
          "output_type": "display_data",
          "data": {
            "image/png": "[encoded data removed]",
            "text/plain": [
              "<Figure size 432x288 with 1 Axes>"
            ]
          },
          "metadata": {
            "needs_background": "light"
          }
        }
      ]
    },
    {
      "cell_type": "code",
      "source": [
        "print(df['AVERAGE_CLOUDINESS'].value_counts())"
      ],
      "metadata": {
        "colab": {
          "base_uri": "https://localhost:8080/"
        },
        "id": "BGfwNc8luSRd",
        "outputId": "4ab1622b-f7c1-4dc6-8012-f2c1a6d5d8bb"
      },
      "execution_count": null,
      "outputs": [
        {
          "output_type": "stream",
          "name": "stdout",
          "text": [
            "céu claro            1582\n",
            "céu pouco nublado     516\n",
            "nuvens dispersas      459\n",
            "nuvens quebrados      448\n",
            "algumas nuvens        422\n",
            "nuvens quebradas      416\n",
            "céu limpo             153\n",
            "tempo nublado          67\n",
            "nublado                67\n",
            "Name: AVERAGE_CLOUDINESS, dtype: int64\n"
          ]
        }
      ]
    },
    {
      "cell_type": "code",
      "metadata": {
        "id": "9zHh6gXcb-bU"
      },
      "source": [
        "#sns.pairplot(df,hue=\"AVERAGE_SPEED_DIFF\");"
      ],
      "execution_count": null,
      "outputs": []
    },
    {
      "cell_type": "code",
      "metadata": {
        "colab": {
          "base_uri": "https://localhost:8080/"
        },
        "id": "v027FHXYVzqX",
        "outputId": "eeaa8adc-de42-4923-c3a1-f1a272006f5c"
      },
      "source": [
        "print(df['AVERAGE_PRECIPITATION'].value_counts())\n",
        "print(dfTest['AVERAGE_PRECIPITATION'].value_counts())"
      ],
      "execution_count": null,
      "outputs": [
        {
          "output_type": "stream",
          "name": "stdout",
          "text": [
            "0.0    6812\n",
            "Name: AVERAGE_PRECIPITATION, dtype: int64\n",
            "0.0    1500\n",
            "Name: AVERAGE_PRECIPITATION, dtype: int64\n"
          ]
        }
      ]
    },
    {
      "cell_type": "code",
      "metadata": {
        "id": "KyfAJHrNV9AL"
      },
      "source": [
        "df =df.drop('AVERAGE_PRECIPITATION', axis=1)\n",
        "dfTest =dfTest.drop('AVERAGE_PRECIPITATION', axis=1)"
      ],
      "execution_count": null,
      "outputs": []
    },
    {
      "cell_type": "code",
      "metadata": {
        "id": "IenknFxqRLzZ"
      },
      "source": [
        "df['AVERAGE_CLOUDINESS'] = df['AVERAGE_CLOUDINESS'].replace(['nublado'],'tempo nublado')\n",
        "df['AVERAGE_CLOUDINESS'] = df['AVERAGE_CLOUDINESS'].replace(['nuvens quebrados'],'nuvens quebradas')\n",
        "df['AVERAGE_CLOUDINESS'] = df['AVERAGE_CLOUDINESS'].replace(['céu limpo'],'céu claro')\n",
        "df['AVERAGE_CLOUDINESS'] = df['AVERAGE_CLOUDINESS'].replace(['nuvens dispersas'],'nuvens quebradas')\n",
        "df['AVERAGE_CLOUDINESS'] = df['AVERAGE_CLOUDINESS'].replace(['céu pouco nublado'],'algumas nuvens')\n",
        "\n",
        "dfTest['AVERAGE_CLOUDINESS'] = dfTest['AVERAGE_CLOUDINESS'].replace(['nublado'],'tempo nublado')\n",
        "dfTest['AVERAGE_CLOUDINESS'] = dfTest['AVERAGE_CLOUDINESS'].replace(['nuvens quebrados'],'nuvens quebradas')\n",
        "dfTest['AVERAGE_CLOUDINESS'] = dfTest['AVERAGE_CLOUDINESS'].replace(['céu limpo'],'céu claro')\n",
        "dfTest['AVERAGE_CLOUDINESS'] = dfTest['AVERAGE_CLOUDINESS'].replace(['nuvens dispersas'],'nuvens quebradas')\n",
        "dfTest['AVERAGE_CLOUDINESS'] = dfTest['AVERAGE_CLOUDINESS'].replace(['céu pouco nublado'],'algumas nuvens')"
      ],
      "execution_count": null,
      "outputs": []
    },
    {
      "cell_type": "code",
      "metadata": {
        "colab": {
          "base_uri": "https://localhost:8080/"
        },
        "id": "00Qles96R_jF",
        "outputId": "f2259bdb-e145-4dff-9387-fed856666a30"
      },
      "source": [
        "print(df['AVERAGE_CLOUDINESS'].value_counts())\n",
        "print(dfTest['AVERAGE_CLOUDINESS'].value_counts())"
      ],
      "execution_count": null,
      "outputs": [
        {
          "output_type": "stream",
          "name": "stdout",
          "text": [
            "céu claro           1735\n",
            "nuvens quebradas    1323\n",
            "algumas nuvens       938\n",
            "tempo nublado        134\n",
            "Name: AVERAGE_CLOUDINESS, dtype: int64\n",
            "céu claro           372\n",
            "nuvens quebradas    285\n",
            "algumas nuvens      207\n",
            "tempo nublado        37\n",
            "Name: AVERAGE_CLOUDINESS, dtype: int64\n"
          ]
        }
      ]
    },
    {
      "cell_type": "code",
      "metadata": {
        "id": "WX0dOMkATMIJ"
      },
      "source": [
        "df['AVERAGE_CLOUDINESS'].fillna(value = 'desconhecido', inplace=True)\n",
        "dfTest['AVERAGE_CLOUDINESS'].fillna(value = 'desconhecido', inplace=True)"
      ],
      "execution_count": null,
      "outputs": []
    },
    {
      "cell_type": "code",
      "metadata": {
        "colab": {
          "base_uri": "https://localhost:8080/"
        },
        "id": "GOCsBqpUUG4g",
        "outputId": "6d9e3ed8-db2e-4b42-d432-ed633ddcec91"
      },
      "source": [
        "print(df['AVERAGE_CLOUDINESS'].value_counts())\n",
        "print(dfTest['AVERAGE_CLOUDINESS'].value_counts())"
      ],
      "execution_count": null,
      "outputs": [
        {
          "output_type": "stream",
          "name": "stdout",
          "text": [
            "desconhecido        2682\n",
            "céu claro           1735\n",
            "nuvens quebradas    1323\n",
            "algumas nuvens       938\n",
            "tempo nublado        134\n",
            "Name: AVERAGE_CLOUDINESS, dtype: int64\n",
            "desconhecido        599\n",
            "céu claro           372\n",
            "nuvens quebradas    285\n",
            "algumas nuvens      207\n",
            "tempo nublado        37\n",
            "Name: AVERAGE_CLOUDINESS, dtype: int64\n"
          ]
        }
      ]
    },
    {
      "cell_type": "code",
      "source": [
        "ohe = pd.get_dummies(df['AVERAGE_CLOUDINESS'])\n",
        "df = pd.concat([df,ohe], axis=1)\n",
        "df.drop('AVERAGE_CLOUDINESS',axis=1,inplace=True)\n",
        "ohe = pd.get_dummies(dfTest['AVERAGE_CLOUDINESS'])\n",
        "dfTest = pd.concat([dfTest,ohe], axis=1)\n",
        "dfTest.drop('AVERAGE_CLOUDINESS',axis=1,inplace=True)"
      ],
      "metadata": {
        "id": "A7govdlEQpwX"
      },
      "execution_count": null,
      "outputs": []
    },
    {
      "cell_type": "code",
      "source": [
        "df.head()"
      ],
      "metadata": {
        "colab": {
          "base_uri": "https://localhost:8080/",
          "height": 374
        },
        "id": "VbE_U5hTQ2zw",
        "outputId": "cd459006-5bb0-48e4-f7fa-006bece27067"
      },
      "execution_count": null,
      "outputs": [
        {
          "output_type": "execute_result",
          "data": {
            "text/html": [
              "\n",
              "  <div id=\"df-37ca547e-5389-4996-bb96-27e81a44336e\">\n",
              "    <div class=\"colab-df-container\">\n",
              "      <div>\n",
              "<style scoped>\n",
              "    .dataframe tbody tr th:only-of-type {\n",
              "        vertical-align: middle;\n",
              "    }\n",
              "\n",
              "    .dataframe tbody tr th {\n",
              "        vertical-align: top;\n",
              "    }\n",
              "\n",
              "    .dataframe thead th {\n",
              "        text-align: right;\n",
              "    }\n",
              "</style>\n",
              "<table border=\"1\" class=\"dataframe\">\n",
              "  <thead>\n",
              "    <tr style=\"text-align: right;\">\n",
              "      <th></th>\n",
              "      <th>record_date</th>\n",
              "      <th>AVERAGE_SPEED_DIFF</th>\n",
              "      <th>AVERAGE_FREE_FLOW_SPEED</th>\n",
              "      <th>AVERAGE_TIME_DIFF</th>\n",
              "      <th>AVERAGE_FREE_FLOW_TIME</th>\n",
              "      <th>LUMINOSITY</th>\n",
              "      <th>AVERAGE_TEMPERATURE</th>\n",
              "      <th>AVERAGE_ATMOSP_PRESSURE</th>\n",
              "      <th>AVERAGE_HUMIDITY</th>\n",
              "      <th>AVERAGE_WIND_SPEED</th>\n",
              "      <th>AVERAGE_RAIN</th>\n",
              "      <th>algumas nuvens</th>\n",
              "      <th>céu claro</th>\n",
              "      <th>desconhecido</th>\n",
              "      <th>nuvens quebradas</th>\n",
              "      <th>tempo nublado</th>\n",
              "    </tr>\n",
              "  </thead>\n",
              "  <tbody>\n",
              "    <tr>\n",
              "      <th>0</th>\n",
              "      <td>2019-08-29 07:00:00</td>\n",
              "      <td>Medium</td>\n",
              "      <td>41.5</td>\n",
              "      <td>11.5</td>\n",
              "      <td>71.4</td>\n",
              "      <td>LIGHT</td>\n",
              "      <td>15.0</td>\n",
              "      <td>1019.0</td>\n",
              "      <td>100.0</td>\n",
              "      <td>3.0</td>\n",
              "      <td>NaN</td>\n",
              "      <td>0</td>\n",
              "      <td>0</td>\n",
              "      <td>1</td>\n",
              "      <td>0</td>\n",
              "      <td>0</td>\n",
              "    </tr>\n",
              "    <tr>\n",
              "      <th>1</th>\n",
              "      <td>2018-08-10 14:00:00</td>\n",
              "      <td>High</td>\n",
              "      <td>41.7</td>\n",
              "      <td>48.3</td>\n",
              "      <td>87.4</td>\n",
              "      <td>LIGHT</td>\n",
              "      <td>21.0</td>\n",
              "      <td>1021.0</td>\n",
              "      <td>53.0</td>\n",
              "      <td>5.0</td>\n",
              "      <td>NaN</td>\n",
              "      <td>0</td>\n",
              "      <td>1</td>\n",
              "      <td>0</td>\n",
              "      <td>0</td>\n",
              "      <td>0</td>\n",
              "    </tr>\n",
              "    <tr>\n",
              "      <th>2</th>\n",
              "      <td>2019-09-01 16:00:00</td>\n",
              "      <td>High</td>\n",
              "      <td>38.6</td>\n",
              "      <td>38.4</td>\n",
              "      <td>85.2</td>\n",
              "      <td>LIGHT</td>\n",
              "      <td>26.0</td>\n",
              "      <td>1014.0</td>\n",
              "      <td>61.0</td>\n",
              "      <td>4.0</td>\n",
              "      <td>NaN</td>\n",
              "      <td>0</td>\n",
              "      <td>0</td>\n",
              "      <td>1</td>\n",
              "      <td>0</td>\n",
              "      <td>0</td>\n",
              "    </tr>\n",
              "    <tr>\n",
              "      <th>3</th>\n",
              "      <td>2019-02-26 11:00:00</td>\n",
              "      <td>High</td>\n",
              "      <td>37.4</td>\n",
              "      <td>61.0</td>\n",
              "      <td>94.1</td>\n",
              "      <td>LIGHT</td>\n",
              "      <td>18.0</td>\n",
              "      <td>1025.0</td>\n",
              "      <td>48.0</td>\n",
              "      <td>4.0</td>\n",
              "      <td>NaN</td>\n",
              "      <td>0</td>\n",
              "      <td>1</td>\n",
              "      <td>0</td>\n",
              "      <td>0</td>\n",
              "      <td>0</td>\n",
              "    </tr>\n",
              "    <tr>\n",
              "      <th>4</th>\n",
              "      <td>2019-06-06 12:00:00</td>\n",
              "      <td>Medium</td>\n",
              "      <td>41.6</td>\n",
              "      <td>50.4</td>\n",
              "      <td>77.0</td>\n",
              "      <td>LIGHT</td>\n",
              "      <td>15.0</td>\n",
              "      <td>1008.0</td>\n",
              "      <td>82.0</td>\n",
              "      <td>10.0</td>\n",
              "      <td>NaN</td>\n",
              "      <td>0</td>\n",
              "      <td>0</td>\n",
              "      <td>1</td>\n",
              "      <td>0</td>\n",
              "      <td>0</td>\n",
              "    </tr>\n",
              "  </tbody>\n",
              "</table>\n",
              "</div>\n",
              "      <button class=\"colab-df-convert\" onclick=\"convertToInteractive('df-37ca547e-5389-4996-bb96-27e81a44336e')\"\n",
              "              title=\"Convert this dataframe to an interactive table.\"\n",
              "              style=\"display:none;\">\n",
              "        \n",
              "  <svg xmlns=\"http://www.w3.org/2000/svg\" height=\"24px\"viewBox=\"0 0 24 24\"\n",
              "       width=\"24px\">\n",
              "    <path d=\"M0 0h24v24H0V0z\" fill=\"none\"/>\n",
              "    <path d=\"M18.56 5.44l.94 2.06.94-2.06 2.06-.94-2.06-.94-.94-2.06-.94 2.06-2.06.94zm-11 1L8.5 8.5l.94-2.06 2.06-.94-2.06-.94L8.5 2.5l-.94 2.06-2.06.94zm10 10l.94 2.06.94-2.06 2.06-.94-2.06-.94-.94-2.06-.94 2.06-2.06.94z\"/><path d=\"M17.41 7.96l-1.37-1.37c-.4-.4-.92-.59-1.43-.59-.52 0-1.04.2-1.43.59L10.3 9.45l-7.72 7.72c-.78.78-.78 2.05 0 2.83L4 21.41c.39.39.9.59 1.41.59.51 0 1.02-.2 1.41-.59l7.78-7.78 2.81-2.81c.8-.78.8-2.07 0-2.86zM5.41 20L4 18.59l7.72-7.72 1.47 1.35L5.41 20z\"/>\n",
              "  </svg>\n",
              "      </button>\n",
              "      \n",
              "  <style>\n",
              "    .colab-df-container {\n",
              "      display:flex;\n",
              "      flex-wrap:wrap;\n",
              "      gap: 12px;\n",
              "    }\n",
              "\n",
              "    .colab-df-convert {\n",
              "      background-color: #E8F0FE;\n",
              "      border: none;\n",
              "      border-radius: 50%;\n",
              "      cursor: pointer;\n",
              "      display: none;\n",
              "      fill: #1967D2;\n",
              "      height: 32px;\n",
              "      padding: 0 0 0 0;\n",
              "      width: 32px;\n",
              "    }\n",
              "\n",
              "    .colab-df-convert:hover {\n",
              "      background-color: #E2EBFA;\n",
              "      box-shadow: 0px 1px 2px rgba(60, 64, 67, 0.3), 0px 1px 3px 1px rgba(60, 64, 67, 0.15);\n",
              "      fill: #174EA6;\n",
              "    }\n",
              "\n",
              "    [theme=dark] .colab-df-convert {\n",
              "      background-color: #3B4455;\n",
              "      fill: #D2E3FC;\n",
              "    }\n",
              "\n",
              "    [theme=dark] .colab-df-convert:hover {\n",
              "      background-color: #434B5C;\n",
              "      box-shadow: 0px 1px 3px 1px rgba(0, 0, 0, 0.15);\n",
              "      filter: drop-shadow(0px 1px 2px rgba(0, 0, 0, 0.3));\n",
              "      fill: #FFFFFF;\n",
              "    }\n",
              "  </style>\n",
              "\n",
              "      <script>\n",
              "        const buttonEl =\n",
              "          document.querySelector('#df-37ca547e-5389-4996-bb96-27e81a44336e button.colab-df-convert');\n",
              "        buttonEl.style.display =\n",
              "          google.colab.kernel.accessAllowed ? 'block' : 'none';\n",
              "\n",
              "        async function convertToInteractive(key) {\n",
              "          const element = document.querySelector('#df-37ca547e-5389-4996-bb96-27e81a44336e');\n",
              "          const dataTable =\n",
              "            await google.colab.kernel.invokeFunction('convertToInteractive',\n",
              "                                                     [key], {});\n",
              "          if (!dataTable) return;\n",
              "\n",
              "          const docLinkHtml = 'Like what you see? Visit the ' +\n",
              "            '<a target=\"_blank\" href=https://colab.research.google.com/notebooks/data_table.ipynb>data table notebook</a>'\n",
              "            + ' to learn more about interactive tables.';\n",
              "          element.innerHTML = '';\n",
              "          dataTable['output_type'] = 'display_data';\n",
              "          await google.colab.output.renderOutput(dataTable, element);\n",
              "          const docLink = document.createElement('div');\n",
              "          docLink.innerHTML = docLinkHtml;\n",
              "          element.appendChild(docLink);\n",
              "        }\n",
              "      </script>\n",
              "    </div>\n",
              "  </div>\n",
              "  "
            ],
            "text/plain": [
              "           record_date AVERAGE_SPEED_DIFF  ...  nuvens quebradas  tempo nublado\n",
              "0  2019-08-29 07:00:00             Medium  ...                 0              0\n",
              "1  2018-08-10 14:00:00               High  ...                 0              0\n",
              "2  2019-09-01 16:00:00               High  ...                 0              0\n",
              "3  2019-02-26 11:00:00               High  ...                 0              0\n",
              "4  2019-06-06 12:00:00             Medium  ...                 0              0\n",
              "\n",
              "[5 rows x 16 columns]"
            ]
          },
          "metadata": {},
          "execution_count": 33
        }
      ]
    },
    {
      "cell_type": "code",
      "metadata": {
        "id": "lFcZdqGjqY-A"
      },
      "source": [
        "from sklearn.preprocessing import LabelEncoder"
      ],
      "execution_count": null,
      "outputs": []
    },
    {
      "cell_type": "code",
      "metadata": {
        "id": "O2EjemWPsEqZ"
      },
      "source": [
        "lumTable = {\"LUMINOSITY\": {\"DARK\": 0, \"LOW_LIGHT\": 1, \"LIGHT\": 2}}\n",
        "df = df.replace(lumTable)\n",
        "dfTest = dfTest.replace(lumTable)"
      ],
      "execution_count": null,
      "outputs": []
    },
    {
      "cell_type": "code",
      "source": [
        "df.head()"
      ],
      "metadata": {
        "colab": {
          "base_uri": "https://localhost:8080/",
          "height": 374
        },
        "id": "znds1EqMTJcN",
        "outputId": "9dca0596-4785-497d-c21d-3fac41726e75"
      },
      "execution_count": null,
      "outputs": [
        {
          "output_type": "execute_result",
          "data": {
            "text/html": [
              "\n",
              "  <div id=\"df-d5af99fa-ba3c-47f1-af01-189e807b1dfb\">\n",
              "    <div class=\"colab-df-container\">\n",
              "      <div>\n",
              "<style scoped>\n",
              "    .dataframe tbody tr th:only-of-type {\n",
              "        vertical-align: middle;\n",
              "    }\n",
              "\n",
              "    .dataframe tbody tr th {\n",
              "        vertical-align: top;\n",
              "    }\n",
              "\n",
              "    .dataframe thead th {\n",
              "        text-align: right;\n",
              "    }\n",
              "</style>\n",
              "<table border=\"1\" class=\"dataframe\">\n",
              "  <thead>\n",
              "    <tr style=\"text-align: right;\">\n",
              "      <th></th>\n",
              "      <th>record_date</th>\n",
              "      <th>AVERAGE_SPEED_DIFF</th>\n",
              "      <th>AVERAGE_FREE_FLOW_SPEED</th>\n",
              "      <th>AVERAGE_TIME_DIFF</th>\n",
              "      <th>AVERAGE_FREE_FLOW_TIME</th>\n",
              "      <th>LUMINOSITY</th>\n",
              "      <th>AVERAGE_TEMPERATURE</th>\n",
              "      <th>AVERAGE_ATMOSP_PRESSURE</th>\n",
              "      <th>AVERAGE_HUMIDITY</th>\n",
              "      <th>AVERAGE_WIND_SPEED</th>\n",
              "      <th>AVERAGE_RAIN</th>\n",
              "      <th>algumas nuvens</th>\n",
              "      <th>céu claro</th>\n",
              "      <th>desconhecido</th>\n",
              "      <th>nuvens quebradas</th>\n",
              "      <th>tempo nublado</th>\n",
              "    </tr>\n",
              "  </thead>\n",
              "  <tbody>\n",
              "    <tr>\n",
              "      <th>0</th>\n",
              "      <td>2019-08-29 07:00:00</td>\n",
              "      <td>Medium</td>\n",
              "      <td>41.5</td>\n",
              "      <td>11.5</td>\n",
              "      <td>71.4</td>\n",
              "      <td>2</td>\n",
              "      <td>15.0</td>\n",
              "      <td>1019.0</td>\n",
              "      <td>100.0</td>\n",
              "      <td>3.0</td>\n",
              "      <td>NaN</td>\n",
              "      <td>0</td>\n",
              "      <td>0</td>\n",
              "      <td>1</td>\n",
              "      <td>0</td>\n",
              "      <td>0</td>\n",
              "    </tr>\n",
              "    <tr>\n",
              "      <th>1</th>\n",
              "      <td>2018-08-10 14:00:00</td>\n",
              "      <td>High</td>\n",
              "      <td>41.7</td>\n",
              "      <td>48.3</td>\n",
              "      <td>87.4</td>\n",
              "      <td>2</td>\n",
              "      <td>21.0</td>\n",
              "      <td>1021.0</td>\n",
              "      <td>53.0</td>\n",
              "      <td>5.0</td>\n",
              "      <td>NaN</td>\n",
              "      <td>0</td>\n",
              "      <td>1</td>\n",
              "      <td>0</td>\n",
              "      <td>0</td>\n",
              "      <td>0</td>\n",
              "    </tr>\n",
              "    <tr>\n",
              "      <th>2</th>\n",
              "      <td>2019-09-01 16:00:00</td>\n",
              "      <td>High</td>\n",
              "      <td>38.6</td>\n",
              "      <td>38.4</td>\n",
              "      <td>85.2</td>\n",
              "      <td>2</td>\n",
              "      <td>26.0</td>\n",
              "      <td>1014.0</td>\n",
              "      <td>61.0</td>\n",
              "      <td>4.0</td>\n",
              "      <td>NaN</td>\n",
              "      <td>0</td>\n",
              "      <td>0</td>\n",
              "      <td>1</td>\n",
              "      <td>0</td>\n",
              "      <td>0</td>\n",
              "    </tr>\n",
              "    <tr>\n",
              "      <th>3</th>\n",
              "      <td>2019-02-26 11:00:00</td>\n",
              "      <td>High</td>\n",
              "      <td>37.4</td>\n",
              "      <td>61.0</td>\n",
              "      <td>94.1</td>\n",
              "      <td>2</td>\n",
              "      <td>18.0</td>\n",
              "      <td>1025.0</td>\n",
              "      <td>48.0</td>\n",
              "      <td>4.0</td>\n",
              "      <td>NaN</td>\n",
              "      <td>0</td>\n",
              "      <td>1</td>\n",
              "      <td>0</td>\n",
              "      <td>0</td>\n",
              "      <td>0</td>\n",
              "    </tr>\n",
              "    <tr>\n",
              "      <th>4</th>\n",
              "      <td>2019-06-06 12:00:00</td>\n",
              "      <td>Medium</td>\n",
              "      <td>41.6</td>\n",
              "      <td>50.4</td>\n",
              "      <td>77.0</td>\n",
              "      <td>2</td>\n",
              "      <td>15.0</td>\n",
              "      <td>1008.0</td>\n",
              "      <td>82.0</td>\n",
              "      <td>10.0</td>\n",
              "      <td>NaN</td>\n",
              "      <td>0</td>\n",
              "      <td>0</td>\n",
              "      <td>1</td>\n",
              "      <td>0</td>\n",
              "      <td>0</td>\n",
              "    </tr>\n",
              "  </tbody>\n",
              "</table>\n",
              "</div>\n",
              "      <button class=\"colab-df-convert\" onclick=\"convertToInteractive('df-d5af99fa-ba3c-47f1-af01-189e807b1dfb')\"\n",
              "              title=\"Convert this dataframe to an interactive table.\"\n",
              "              style=\"display:none;\">\n",
              "        \n",
              "  <svg xmlns=\"http://www.w3.org/2000/svg\" height=\"24px\"viewBox=\"0 0 24 24\"\n",
              "       width=\"24px\">\n",
              "    <path d=\"M0 0h24v24H0V0z\" fill=\"none\"/>\n",
              "    <path d=\"M18.56 5.44l.94 2.06.94-2.06 2.06-.94-2.06-.94-.94-2.06-.94 2.06-2.06.94zm-11 1L8.5 8.5l.94-2.06 2.06-.94-2.06-.94L8.5 2.5l-.94 2.06-2.06.94zm10 10l.94 2.06.94-2.06 2.06-.94-2.06-.94-.94-2.06-.94 2.06-2.06.94z\"/><path d=\"M17.41 7.96l-1.37-1.37c-.4-.4-.92-.59-1.43-.59-.52 0-1.04.2-1.43.59L10.3 9.45l-7.72 7.72c-.78.78-.78 2.05 0 2.83L4 21.41c.39.39.9.59 1.41.59.51 0 1.02-.2 1.41-.59l7.78-7.78 2.81-2.81c.8-.78.8-2.07 0-2.86zM5.41 20L4 18.59l7.72-7.72 1.47 1.35L5.41 20z\"/>\n",
              "  </svg>\n",
              "      </button>\n",
              "      \n",
              "  <style>\n",
              "    .colab-df-container {\n",
              "      display:flex;\n",
              "      flex-wrap:wrap;\n",
              "      gap: 12px;\n",
              "    }\n",
              "\n",
              "    .colab-df-convert {\n",
              "      background-color: #E8F0FE;\n",
              "      border: none;\n",
              "      border-radius: 50%;\n",
              "      cursor: pointer;\n",
              "      display: none;\n",
              "      fill: #1967D2;\n",
              "      height: 32px;\n",
              "      padding: 0 0 0 0;\n",
              "      width: 32px;\n",
              "    }\n",
              "\n",
              "    .colab-df-convert:hover {\n",
              "      background-color: #E2EBFA;\n",
              "      box-shadow: 0px 1px 2px rgba(60, 64, 67, 0.3), 0px 1px 3px 1px rgba(60, 64, 67, 0.15);\n",
              "      fill: #174EA6;\n",
              "    }\n",
              "\n",
              "    [theme=dark] .colab-df-convert {\n",
              "      background-color: #3B4455;\n",
              "      fill: #D2E3FC;\n",
              "    }\n",
              "\n",
              "    [theme=dark] .colab-df-convert:hover {\n",
              "      background-color: #434B5C;\n",
              "      box-shadow: 0px 1px 3px 1px rgba(0, 0, 0, 0.15);\n",
              "      filter: drop-shadow(0px 1px 2px rgba(0, 0, 0, 0.3));\n",
              "      fill: #FFFFFF;\n",
              "    }\n",
              "  </style>\n",
              "\n",
              "      <script>\n",
              "        const buttonEl =\n",
              "          document.querySelector('#df-d5af99fa-ba3c-47f1-af01-189e807b1dfb button.colab-df-convert');\n",
              "        buttonEl.style.display =\n",
              "          google.colab.kernel.accessAllowed ? 'block' : 'none';\n",
              "\n",
              "        async function convertToInteractive(key) {\n",
              "          const element = document.querySelector('#df-d5af99fa-ba3c-47f1-af01-189e807b1dfb');\n",
              "          const dataTable =\n",
              "            await google.colab.kernel.invokeFunction('convertToInteractive',\n",
              "                                                     [key], {});\n",
              "          if (!dataTable) return;\n",
              "\n",
              "          const docLinkHtml = 'Like what you see? Visit the ' +\n",
              "            '<a target=\"_blank\" href=https://colab.research.google.com/notebooks/data_table.ipynb>data table notebook</a>'\n",
              "            + ' to learn more about interactive tables.';\n",
              "          element.innerHTML = '';\n",
              "          dataTable['output_type'] = 'display_data';\n",
              "          await google.colab.output.renderOutput(dataTable, element);\n",
              "          const docLink = document.createElement('div');\n",
              "          docLink.innerHTML = docLinkHtml;\n",
              "          element.appendChild(docLink);\n",
              "        }\n",
              "      </script>\n",
              "    </div>\n",
              "  </div>\n",
              "  "
            ],
            "text/plain": [
              "           record_date AVERAGE_SPEED_DIFF  ...  nuvens quebradas  tempo nublado\n",
              "0  2019-08-29 07:00:00             Medium  ...                 0              0\n",
              "1  2018-08-10 14:00:00               High  ...                 0              0\n",
              "2  2019-09-01 16:00:00               High  ...                 0              0\n",
              "3  2019-02-26 11:00:00               High  ...                 0              0\n",
              "4  2019-06-06 12:00:00             Medium  ...                 0              0\n",
              "\n",
              "[5 rows x 16 columns]"
            ]
          },
          "metadata": {},
          "execution_count": 36
        }
      ]
    },
    {
      "cell_type": "code",
      "metadata": {
        "colab": {
          "base_uri": "https://localhost:8080/"
        },
        "id": "C1F7U9dOwsbd",
        "outputId": "a6fb4da4-3273-4d13-fb92-50bf081dc334"
      },
      "source": [
        "y_train_sd = df[\"AVERAGE_SPEED_DIFF\"]\n",
        "le = LabelEncoder()\n",
        "y_train_sd_encoded = le.fit_transform(y_train_sd)\n",
        "print(y_train_sd[:5])\n",
        "print(y_train_sd_encoded[:5])"
      ],
      "execution_count": null,
      "outputs": [
        {
          "output_type": "stream",
          "name": "stdout",
          "text": [
            "0    Medium\n",
            "1      High\n",
            "2      High\n",
            "3      High\n",
            "4    Medium\n",
            "Name: AVERAGE_SPEED_DIFF, dtype: object\n",
            "[2 0 0 0 2]\n"
          ]
        }
      ]
    },
    {
      "cell_type": "code",
      "metadata": {
        "colab": {
          "base_uri": "https://localhost:8080/"
        },
        "id": "8mJ5UPz6w5nK",
        "outputId": "a756b13c-9a2d-4dc8-d97f-6a366d35a636"
      },
      "source": [
        "df[\"AVERAGE_SPEED_DIFF\"] = y_train_sd_encoded\n",
        "print(df[\"AVERAGE_SPEED_DIFF\"].value_counts())"
      ],
      "execution_count": null,
      "outputs": [
        {
          "output_type": "stream",
          "name": "stdout",
          "text": [
            "3    2200\n",
            "2    1651\n",
            "1    1419\n",
            "0    1063\n",
            "4     479\n",
            "Name: AVERAGE_SPEED_DIFF, dtype: int64\n"
          ]
        }
      ]
    },
    {
      "cell_type": "code",
      "source": [
        "df.head()"
      ],
      "metadata": {
        "colab": {
          "base_uri": "https://localhost:8080/",
          "height": 374
        },
        "id": "Mlw8EbTgXRR6",
        "outputId": "019b5965-6495-4aed-e38b-c437658864b3"
      },
      "execution_count": null,
      "outputs": [
        {
          "output_type": "execute_result",
          "data": {
            "text/html": [
              "\n",
              "  <div id=\"df-51f1d92a-110a-449e-b5f9-4ec3843dad13\">\n",
              "    <div class=\"colab-df-container\">\n",
              "      <div>\n",
              "<style scoped>\n",
              "    .dataframe tbody tr th:only-of-type {\n",
              "        vertical-align: middle;\n",
              "    }\n",
              "\n",
              "    .dataframe tbody tr th {\n",
              "        vertical-align: top;\n",
              "    }\n",
              "\n",
              "    .dataframe thead th {\n",
              "        text-align: right;\n",
              "    }\n",
              "</style>\n",
              "<table border=\"1\" class=\"dataframe\">\n",
              "  <thead>\n",
              "    <tr style=\"text-align: right;\">\n",
              "      <th></th>\n",
              "      <th>record_date</th>\n",
              "      <th>AVERAGE_SPEED_DIFF</th>\n",
              "      <th>AVERAGE_FREE_FLOW_SPEED</th>\n",
              "      <th>AVERAGE_TIME_DIFF</th>\n",
              "      <th>AVERAGE_FREE_FLOW_TIME</th>\n",
              "      <th>LUMINOSITY</th>\n",
              "      <th>AVERAGE_TEMPERATURE</th>\n",
              "      <th>AVERAGE_ATMOSP_PRESSURE</th>\n",
              "      <th>AVERAGE_HUMIDITY</th>\n",
              "      <th>AVERAGE_WIND_SPEED</th>\n",
              "      <th>AVERAGE_RAIN</th>\n",
              "      <th>algumas nuvens</th>\n",
              "      <th>céu claro</th>\n",
              "      <th>desconhecido</th>\n",
              "      <th>nuvens quebradas</th>\n",
              "      <th>tempo nublado</th>\n",
              "    </tr>\n",
              "  </thead>\n",
              "  <tbody>\n",
              "    <tr>\n",
              "      <th>0</th>\n",
              "      <td>2019-08-29 07:00:00</td>\n",
              "      <td>2</td>\n",
              "      <td>41.5</td>\n",
              "      <td>11.5</td>\n",
              "      <td>71.4</td>\n",
              "      <td>2</td>\n",
              "      <td>15.0</td>\n",
              "      <td>1019.0</td>\n",
              "      <td>100.0</td>\n",
              "      <td>3.0</td>\n",
              "      <td>NaN</td>\n",
              "      <td>0</td>\n",
              "      <td>0</td>\n",
              "      <td>1</td>\n",
              "      <td>0</td>\n",
              "      <td>0</td>\n",
              "    </tr>\n",
              "    <tr>\n",
              "      <th>1</th>\n",
              "      <td>2018-08-10 14:00:00</td>\n",
              "      <td>0</td>\n",
              "      <td>41.7</td>\n",
              "      <td>48.3</td>\n",
              "      <td>87.4</td>\n",
              "      <td>2</td>\n",
              "      <td>21.0</td>\n",
              "      <td>1021.0</td>\n",
              "      <td>53.0</td>\n",
              "      <td>5.0</td>\n",
              "      <td>NaN</td>\n",
              "      <td>0</td>\n",
              "      <td>1</td>\n",
              "      <td>0</td>\n",
              "      <td>0</td>\n",
              "      <td>0</td>\n",
              "    </tr>\n",
              "    <tr>\n",
              "      <th>2</th>\n",
              "      <td>2019-09-01 16:00:00</td>\n",
              "      <td>0</td>\n",
              "      <td>38.6</td>\n",
              "      <td>38.4</td>\n",
              "      <td>85.2</td>\n",
              "      <td>2</td>\n",
              "      <td>26.0</td>\n",
              "      <td>1014.0</td>\n",
              "      <td>61.0</td>\n",
              "      <td>4.0</td>\n",
              "      <td>NaN</td>\n",
              "      <td>0</td>\n",
              "      <td>0</td>\n",
              "      <td>1</td>\n",
              "      <td>0</td>\n",
              "      <td>0</td>\n",
              "    </tr>\n",
              "    <tr>\n",
              "      <th>3</th>\n",
              "      <td>2019-02-26 11:00:00</td>\n",
              "      <td>0</td>\n",
              "      <td>37.4</td>\n",
              "      <td>61.0</td>\n",
              "      <td>94.1</td>\n",
              "      <td>2</td>\n",
              "      <td>18.0</td>\n",
              "      <td>1025.0</td>\n",
              "      <td>48.0</td>\n",
              "      <td>4.0</td>\n",
              "      <td>NaN</td>\n",
              "      <td>0</td>\n",
              "      <td>1</td>\n",
              "      <td>0</td>\n",
              "      <td>0</td>\n",
              "      <td>0</td>\n",
              "    </tr>\n",
              "    <tr>\n",
              "      <th>4</th>\n",
              "      <td>2019-06-06 12:00:00</td>\n",
              "      <td>2</td>\n",
              "      <td>41.6</td>\n",
              "      <td>50.4</td>\n",
              "      <td>77.0</td>\n",
              "      <td>2</td>\n",
              "      <td>15.0</td>\n",
              "      <td>1008.0</td>\n",
              "      <td>82.0</td>\n",
              "      <td>10.0</td>\n",
              "      <td>NaN</td>\n",
              "      <td>0</td>\n",
              "      <td>0</td>\n",
              "      <td>1</td>\n",
              "      <td>0</td>\n",
              "      <td>0</td>\n",
              "    </tr>\n",
              "  </tbody>\n",
              "</table>\n",
              "</div>\n",
              "      <button class=\"colab-df-convert\" onclick=\"convertToInteractive('df-51f1d92a-110a-449e-b5f9-4ec3843dad13')\"\n",
              "              title=\"Convert this dataframe to an interactive table.\"\n",
              "              style=\"display:none;\">\n",
              "        \n",
              "  <svg xmlns=\"http://www.w3.org/2000/svg\" height=\"24px\"viewBox=\"0 0 24 24\"\n",
              "       width=\"24px\">\n",
              "    <path d=\"M0 0h24v24H0V0z\" fill=\"none\"/>\n",
              "    <path d=\"M18.56 5.44l.94 2.06.94-2.06 2.06-.94-2.06-.94-.94-2.06-.94 2.06-2.06.94zm-11 1L8.5 8.5l.94-2.06 2.06-.94-2.06-.94L8.5 2.5l-.94 2.06-2.06.94zm10 10l.94 2.06.94-2.06 2.06-.94-2.06-.94-.94-2.06-.94 2.06-2.06.94z\"/><path d=\"M17.41 7.96l-1.37-1.37c-.4-.4-.92-.59-1.43-.59-.52 0-1.04.2-1.43.59L10.3 9.45l-7.72 7.72c-.78.78-.78 2.05 0 2.83L4 21.41c.39.39.9.59 1.41.59.51 0 1.02-.2 1.41-.59l7.78-7.78 2.81-2.81c.8-.78.8-2.07 0-2.86zM5.41 20L4 18.59l7.72-7.72 1.47 1.35L5.41 20z\"/>\n",
              "  </svg>\n",
              "      </button>\n",
              "      \n",
              "  <style>\n",
              "    .colab-df-container {\n",
              "      display:flex;\n",
              "      flex-wrap:wrap;\n",
              "      gap: 12px;\n",
              "    }\n",
              "\n",
              "    .colab-df-convert {\n",
              "      background-color: #E8F0FE;\n",
              "      border: none;\n",
              "      border-radius: 50%;\n",
              "      cursor: pointer;\n",
              "      display: none;\n",
              "      fill: #1967D2;\n",
              "      height: 32px;\n",
              "      padding: 0 0 0 0;\n",
              "      width: 32px;\n",
              "    }\n",
              "\n",
              "    .colab-df-convert:hover {\n",
              "      background-color: #E2EBFA;\n",
              "      box-shadow: 0px 1px 2px rgba(60, 64, 67, 0.3), 0px 1px 3px 1px rgba(60, 64, 67, 0.15);\n",
              "      fill: #174EA6;\n",
              "    }\n",
              "\n",
              "    [theme=dark] .colab-df-convert {\n",
              "      background-color: #3B4455;\n",
              "      fill: #D2E3FC;\n",
              "    }\n",
              "\n",
              "    [theme=dark] .colab-df-convert:hover {\n",
              "      background-color: #434B5C;\n",
              "      box-shadow: 0px 1px 3px 1px rgba(0, 0, 0, 0.15);\n",
              "      filter: drop-shadow(0px 1px 2px rgba(0, 0, 0, 0.3));\n",
              "      fill: #FFFFFF;\n",
              "    }\n",
              "  </style>\n",
              "\n",
              "      <script>\n",
              "        const buttonEl =\n",
              "          document.querySelector('#df-51f1d92a-110a-449e-b5f9-4ec3843dad13 button.colab-df-convert');\n",
              "        buttonEl.style.display =\n",
              "          google.colab.kernel.accessAllowed ? 'block' : 'none';\n",
              "\n",
              "        async function convertToInteractive(key) {\n",
              "          const element = document.querySelector('#df-51f1d92a-110a-449e-b5f9-4ec3843dad13');\n",
              "          const dataTable =\n",
              "            await google.colab.kernel.invokeFunction('convertToInteractive',\n",
              "                                                     [key], {});\n",
              "          if (!dataTable) return;\n",
              "\n",
              "          const docLinkHtml = 'Like what you see? Visit the ' +\n",
              "            '<a target=\"_blank\" href=https://colab.research.google.com/notebooks/data_table.ipynb>data table notebook</a>'\n",
              "            + ' to learn more about interactive tables.';\n",
              "          element.innerHTML = '';\n",
              "          dataTable['output_type'] = 'display_data';\n",
              "          await google.colab.output.renderOutput(dataTable, element);\n",
              "          const docLink = document.createElement('div');\n",
              "          docLink.innerHTML = docLinkHtml;\n",
              "          element.appendChild(docLink);\n",
              "        }\n",
              "      </script>\n",
              "    </div>\n",
              "  </div>\n",
              "  "
            ],
            "text/plain": [
              "           record_date  AVERAGE_SPEED_DIFF  ...  nuvens quebradas  tempo nublado\n",
              "0  2019-08-29 07:00:00                   2  ...                 0              0\n",
              "1  2018-08-10 14:00:00                   0  ...                 0              0\n",
              "2  2019-09-01 16:00:00                   0  ...                 0              0\n",
              "3  2019-02-26 11:00:00                   0  ...                 0              0\n",
              "4  2019-06-06 12:00:00                   2  ...                 0              0\n",
              "\n",
              "[5 rows x 16 columns]"
            ]
          },
          "metadata": {},
          "execution_count": 39
        }
      ]
    },
    {
      "cell_type": "code",
      "metadata": {
        "colab": {
          "base_uri": "https://localhost:8080/"
        },
        "id": "cY-KoWi7wJIq",
        "outputId": "9e49d631-b77c-4dfa-80ea-13048a88ee88"
      },
      "source": [
        "df.columns"
      ],
      "execution_count": null,
      "outputs": [
        {
          "output_type": "execute_result",
          "data": {
            "text/plain": [
              "Index(['record_date', 'AVERAGE_SPEED_DIFF', 'AVERAGE_FREE_FLOW_SPEED',\n",
              "       'AVERAGE_TIME_DIFF', 'AVERAGE_FREE_FLOW_TIME', 'LUMINOSITY',\n",
              "       'AVERAGE_TEMPERATURE', 'AVERAGE_ATMOSP_PRESSURE', 'AVERAGE_HUMIDITY',\n",
              "       'AVERAGE_WIND_SPEED', 'AVERAGE_RAIN', 'algumas nuvens', 'céu claro',\n",
              "       'desconhecido', 'nuvens quebradas', 'tempo nublado'],\n",
              "      dtype='object')"
            ]
          },
          "metadata": {},
          "execution_count": 131
        }
      ]
    },
    {
      "cell_type": "code",
      "metadata": {
        "colab": {
          "base_uri": "https://localhost:8080/"
        },
        "id": "bgAuNCoowM9V",
        "outputId": "0035944a-903c-45fa-a845-831621b08a58"
      },
      "source": [
        "dfTest.columns"
      ],
      "execution_count": null,
      "outputs": [
        {
          "output_type": "execute_result",
          "data": {
            "text/plain": [
              "Index(['record_date', 'AVERAGE_FREE_FLOW_SPEED', 'AVERAGE_TIME_DIFF',\n",
              "       'AVERAGE_FREE_FLOW_TIME', 'LUMINOSITY', 'AVERAGE_TEMPERATURE',\n",
              "       'AVERAGE_ATMOSP_PRESSURE', 'AVERAGE_HUMIDITY', 'AVERAGE_WIND_SPEED',\n",
              "       'AVERAGE_RAIN', 'algumas nuvens', 'céu claro', 'desconhecido',\n",
              "       'nuvens quebradas', 'tempo nublado'],\n",
              "      dtype='object')"
            ]
          },
          "metadata": {},
          "execution_count": 132
        }
      ]
    },
    {
      "cell_type": "code",
      "metadata": {
        "id": "FcRryg3pDQ54"
      },
      "source": [
        "df['record_date'] = pd.to_datetime(df['record_date'])\n",
        "dfTest['record_date'] = pd.to_datetime(dfTest['record_date']) "
      ],
      "execution_count": null,
      "outputs": []
    },
    {
      "cell_type": "code",
      "metadata": {
        "colab": {
          "base_uri": "https://localhost:8080/"
        },
        "id": "id0GTkr_Dkih",
        "outputId": "700ea417-c49c-479a-86d0-c429c016a7e8"
      },
      "source": [
        "df.info()"
      ],
      "execution_count": null,
      "outputs": [
        {
          "output_type": "stream",
          "name": "stdout",
          "text": [
            "<class 'pandas.core.frame.DataFrame'>\n",
            "RangeIndex: 6812 entries, 0 to 6811\n",
            "Data columns (total 16 columns):\n",
            " #   Column                   Non-Null Count  Dtype         \n",
            "---  ------                   --------------  -----         \n",
            " 0   record_date              6812 non-null   datetime64[ns]\n",
            " 1   AVERAGE_SPEED_DIFF       6812 non-null   int64         \n",
            " 2   AVERAGE_FREE_FLOW_SPEED  6812 non-null   float64       \n",
            " 3   AVERAGE_TIME_DIFF        6812 non-null   float64       \n",
            " 4   AVERAGE_FREE_FLOW_TIME   6812 non-null   float64       \n",
            " 5   LUMINOSITY               6812 non-null   int64         \n",
            " 6   AVERAGE_TEMPERATURE      6812 non-null   float64       \n",
            " 7   AVERAGE_ATMOSP_PRESSURE  6812 non-null   float64       \n",
            " 8   AVERAGE_HUMIDITY         6812 non-null   float64       \n",
            " 9   AVERAGE_WIND_SPEED       6812 non-null   float64       \n",
            " 10  AVERAGE_RAIN             563 non-null    object        \n",
            " 11  algumas nuvens           6812 non-null   uint8         \n",
            " 12  céu claro                6812 non-null   uint8         \n",
            " 13  desconhecido             6812 non-null   uint8         \n",
            " 14  nuvens quebradas         6812 non-null   uint8         \n",
            " 15  tempo nublado            6812 non-null   uint8         \n",
            "dtypes: datetime64[ns](1), float64(7), int64(2), object(1), uint8(5)\n",
            "memory usage: 618.8+ KB\n"
          ]
        }
      ]
    },
    {
      "cell_type": "code",
      "metadata": {
        "colab": {
          "base_uri": "https://localhost:8080/"
        },
        "id": "sW0Njl-cDnbA",
        "outputId": "5620f850-116b-4e7c-ff4c-1d3de83a753e"
      },
      "source": [
        "#df['Year'] = df['record_date'].dt.year\n",
        "df['Month'] = df['record_date'].dt.month\n",
        "df['Week'] = df['record_date'].dt.week\n",
        "#df['Day'] = df['record_date'].dt.day\n",
        "df['Weekday'] = df['record_date'].dt.dayofweek\n",
        "df['Hour'] = df['record_date'].dt.hour\n",
        "\n",
        "#dfTest['Year'] = dfTest['record_date'].dt.year\n",
        "dfTest['Month'] = dfTest['record_date'].dt.month\n",
        "dfTest['Week'] = dfTest['record_date'].dt.week\n",
        "#dfTest['Day'] = dfTest['record_date'].dt.day\n",
        "dfTest['Weekday'] = dfTest['record_date'].dt.dayofweek\n",
        "dfTest['Hour'] = dfTest['record_date'].dt.hour"
      ],
      "execution_count": null,
      "outputs": [
        {
          "output_type": "stream",
          "name": "stderr",
          "text": [
            "/usr/local/lib/python3.7/dist-packages/ipykernel_launcher.py:3: FutureWarning: Series.dt.weekofyear and Series.dt.week have been deprecated.  Please use Series.dt.isocalendar().week instead.\n",
            "  This is separate from the ipykernel package so we can avoid doing imports until\n",
            "/usr/local/lib/python3.7/dist-packages/ipykernel_launcher.py:10: FutureWarning: Series.dt.weekofyear and Series.dt.week have been deprecated.  Please use Series.dt.isocalendar().week instead.\n",
            "  # Remove the CWD from sys.path while we load stuff.\n"
          ]
        }
      ]
    },
    {
      "cell_type": "code",
      "source": [
        "#import holidays\n",
        "#days = holidays.CountryHoliday('PT')\n",
        "#df['Is_Holiday'] = df['record_date'].apply(lambda x : 1 if x in days else 0)"
      ],
      "metadata": {
        "id": "1dHh1_GhiPLf"
      },
      "execution_count": null,
      "outputs": []
    },
    {
      "cell_type": "code",
      "metadata": {
        "colab": {
          "base_uri": "https://localhost:8080/",
          "height": 374
        },
        "id": "vvfwHa4cFjzo",
        "outputId": "f8a85de5-5530-4711-b14a-4afd1e5f7c80"
      },
      "source": [
        "df.head()"
      ],
      "execution_count": null,
      "outputs": [
        {
          "output_type": "execute_result",
          "data": {
            "text/html": [
              "\n",
              "  <div id=\"df-4e81af8d-cfb6-49f6-aecd-3f83bb436136\">\n",
              "    <div class=\"colab-df-container\">\n",
              "      <div>\n",
              "<style scoped>\n",
              "    .dataframe tbody tr th:only-of-type {\n",
              "        vertical-align: middle;\n",
              "    }\n",
              "\n",
              "    .dataframe tbody tr th {\n",
              "        vertical-align: top;\n",
              "    }\n",
              "\n",
              "    .dataframe thead th {\n",
              "        text-align: right;\n",
              "    }\n",
              "</style>\n",
              "<table border=\"1\" class=\"dataframe\">\n",
              "  <thead>\n",
              "    <tr style=\"text-align: right;\">\n",
              "      <th></th>\n",
              "      <th>record_date</th>\n",
              "      <th>AVERAGE_SPEED_DIFF</th>\n",
              "      <th>AVERAGE_FREE_FLOW_SPEED</th>\n",
              "      <th>AVERAGE_TIME_DIFF</th>\n",
              "      <th>AVERAGE_FREE_FLOW_TIME</th>\n",
              "      <th>LUMINOSITY</th>\n",
              "      <th>AVERAGE_TEMPERATURE</th>\n",
              "      <th>AVERAGE_ATMOSP_PRESSURE</th>\n",
              "      <th>AVERAGE_HUMIDITY</th>\n",
              "      <th>AVERAGE_WIND_SPEED</th>\n",
              "      <th>AVERAGE_RAIN</th>\n",
              "      <th>algumas nuvens</th>\n",
              "      <th>céu claro</th>\n",
              "      <th>desconhecido</th>\n",
              "      <th>nuvens quebradas</th>\n",
              "      <th>tempo nublado</th>\n",
              "      <th>Month</th>\n",
              "      <th>Week</th>\n",
              "      <th>Weekday</th>\n",
              "      <th>Hour</th>\n",
              "    </tr>\n",
              "  </thead>\n",
              "  <tbody>\n",
              "    <tr>\n",
              "      <th>0</th>\n",
              "      <td>2019-08-29 07:00:00</td>\n",
              "      <td>2</td>\n",
              "      <td>41.5</td>\n",
              "      <td>11.5</td>\n",
              "      <td>71.4</td>\n",
              "      <td>2</td>\n",
              "      <td>15.0</td>\n",
              "      <td>1019.0</td>\n",
              "      <td>100.0</td>\n",
              "      <td>3.0</td>\n",
              "      <td>NaN</td>\n",
              "      <td>0</td>\n",
              "      <td>0</td>\n",
              "      <td>1</td>\n",
              "      <td>0</td>\n",
              "      <td>0</td>\n",
              "      <td>8</td>\n",
              "      <td>35</td>\n",
              "      <td>3</td>\n",
              "      <td>7</td>\n",
              "    </tr>\n",
              "    <tr>\n",
              "      <th>1</th>\n",
              "      <td>2018-08-10 14:00:00</td>\n",
              "      <td>0</td>\n",
              "      <td>41.7</td>\n",
              "      <td>48.3</td>\n",
              "      <td>87.4</td>\n",
              "      <td>2</td>\n",
              "      <td>21.0</td>\n",
              "      <td>1021.0</td>\n",
              "      <td>53.0</td>\n",
              "      <td>5.0</td>\n",
              "      <td>NaN</td>\n",
              "      <td>0</td>\n",
              "      <td>1</td>\n",
              "      <td>0</td>\n",
              "      <td>0</td>\n",
              "      <td>0</td>\n",
              "      <td>8</td>\n",
              "      <td>32</td>\n",
              "      <td>4</td>\n",
              "      <td>14</td>\n",
              "    </tr>\n",
              "    <tr>\n",
              "      <th>2</th>\n",
              "      <td>2019-09-01 16:00:00</td>\n",
              "      <td>0</td>\n",
              "      <td>38.6</td>\n",
              "      <td>38.4</td>\n",
              "      <td>85.2</td>\n",
              "      <td>2</td>\n",
              "      <td>26.0</td>\n",
              "      <td>1014.0</td>\n",
              "      <td>61.0</td>\n",
              "      <td>4.0</td>\n",
              "      <td>NaN</td>\n",
              "      <td>0</td>\n",
              "      <td>0</td>\n",
              "      <td>1</td>\n",
              "      <td>0</td>\n",
              "      <td>0</td>\n",
              "      <td>9</td>\n",
              "      <td>35</td>\n",
              "      <td>6</td>\n",
              "      <td>16</td>\n",
              "    </tr>\n",
              "    <tr>\n",
              "      <th>3</th>\n",
              "      <td>2019-02-26 11:00:00</td>\n",
              "      <td>0</td>\n",
              "      <td>37.4</td>\n",
              "      <td>61.0</td>\n",
              "      <td>94.1</td>\n",
              "      <td>2</td>\n",
              "      <td>18.0</td>\n",
              "      <td>1025.0</td>\n",
              "      <td>48.0</td>\n",
              "      <td>4.0</td>\n",
              "      <td>NaN</td>\n",
              "      <td>0</td>\n",
              "      <td>1</td>\n",
              "      <td>0</td>\n",
              "      <td>0</td>\n",
              "      <td>0</td>\n",
              "      <td>2</td>\n",
              "      <td>9</td>\n",
              "      <td>1</td>\n",
              "      <td>11</td>\n",
              "    </tr>\n",
              "    <tr>\n",
              "      <th>4</th>\n",
              "      <td>2019-06-06 12:00:00</td>\n",
              "      <td>2</td>\n",
              "      <td>41.6</td>\n",
              "      <td>50.4</td>\n",
              "      <td>77.0</td>\n",
              "      <td>2</td>\n",
              "      <td>15.0</td>\n",
              "      <td>1008.0</td>\n",
              "      <td>82.0</td>\n",
              "      <td>10.0</td>\n",
              "      <td>NaN</td>\n",
              "      <td>0</td>\n",
              "      <td>0</td>\n",
              "      <td>1</td>\n",
              "      <td>0</td>\n",
              "      <td>0</td>\n",
              "      <td>6</td>\n",
              "      <td>23</td>\n",
              "      <td>3</td>\n",
              "      <td>12</td>\n",
              "    </tr>\n",
              "  </tbody>\n",
              "</table>\n",
              "</div>\n",
              "      <button class=\"colab-df-convert\" onclick=\"convertToInteractive('df-4e81af8d-cfb6-49f6-aecd-3f83bb436136')\"\n",
              "              title=\"Convert this dataframe to an interactive table.\"\n",
              "              style=\"display:none;\">\n",
              "        \n",
              "  <svg xmlns=\"http://www.w3.org/2000/svg\" height=\"24px\"viewBox=\"0 0 24 24\"\n",
              "       width=\"24px\">\n",
              "    <path d=\"M0 0h24v24H0V0z\" fill=\"none\"/>\n",
              "    <path d=\"M18.56 5.44l.94 2.06.94-2.06 2.06-.94-2.06-.94-.94-2.06-.94 2.06-2.06.94zm-11 1L8.5 8.5l.94-2.06 2.06-.94-2.06-.94L8.5 2.5l-.94 2.06-2.06.94zm10 10l.94 2.06.94-2.06 2.06-.94-2.06-.94-.94-2.06-.94 2.06-2.06.94z\"/><path d=\"M17.41 7.96l-1.37-1.37c-.4-.4-.92-.59-1.43-.59-.52 0-1.04.2-1.43.59L10.3 9.45l-7.72 7.72c-.78.78-.78 2.05 0 2.83L4 21.41c.39.39.9.59 1.41.59.51 0 1.02-.2 1.41-.59l7.78-7.78 2.81-2.81c.8-.78.8-2.07 0-2.86zM5.41 20L4 18.59l7.72-7.72 1.47 1.35L5.41 20z\"/>\n",
              "  </svg>\n",
              "      </button>\n",
              "      \n",
              "  <style>\n",
              "    .colab-df-container {\n",
              "      display:flex;\n",
              "      flex-wrap:wrap;\n",
              "      gap: 12px;\n",
              "    }\n",
              "\n",
              "    .colab-df-convert {\n",
              "      background-color: #E8F0FE;\n",
              "      border: none;\n",
              "      border-radius: 50%;\n",
              "      cursor: pointer;\n",
              "      display: none;\n",
              "      fill: #1967D2;\n",
              "      height: 32px;\n",
              "      padding: 0 0 0 0;\n",
              "      width: 32px;\n",
              "    }\n",
              "\n",
              "    .colab-df-convert:hover {\n",
              "      background-color: #E2EBFA;\n",
              "      box-shadow: 0px 1px 2px rgba(60, 64, 67, 0.3), 0px 1px 3px 1px rgba(60, 64, 67, 0.15);\n",
              "      fill: #174EA6;\n",
              "    }\n",
              "\n",
              "    [theme=dark] .colab-df-convert {\n",
              "      background-color: #3B4455;\n",
              "      fill: #D2E3FC;\n",
              "    }\n",
              "\n",
              "    [theme=dark] .colab-df-convert:hover {\n",
              "      background-color: #434B5C;\n",
              "      box-shadow: 0px 1px 3px 1px rgba(0, 0, 0, 0.15);\n",
              "      filter: drop-shadow(0px 1px 2px rgba(0, 0, 0, 0.3));\n",
              "      fill: #FFFFFF;\n",
              "    }\n",
              "  </style>\n",
              "\n",
              "      <script>\n",
              "        const buttonEl =\n",
              "          document.querySelector('#df-4e81af8d-cfb6-49f6-aecd-3f83bb436136 button.colab-df-convert');\n",
              "        buttonEl.style.display =\n",
              "          google.colab.kernel.accessAllowed ? 'block' : 'none';\n",
              "\n",
              "        async function convertToInteractive(key) {\n",
              "          const element = document.querySelector('#df-4e81af8d-cfb6-49f6-aecd-3f83bb436136');\n",
              "          const dataTable =\n",
              "            await google.colab.kernel.invokeFunction('convertToInteractive',\n",
              "                                                     [key], {});\n",
              "          if (!dataTable) return;\n",
              "\n",
              "          const docLinkHtml = 'Like what you see? Visit the ' +\n",
              "            '<a target=\"_blank\" href=https://colab.research.google.com/notebooks/data_table.ipynb>data table notebook</a>'\n",
              "            + ' to learn more about interactive tables.';\n",
              "          element.innerHTML = '';\n",
              "          dataTable['output_type'] = 'display_data';\n",
              "          await google.colab.output.renderOutput(dataTable, element);\n",
              "          const docLink = document.createElement('div');\n",
              "          docLink.innerHTML = docLinkHtml;\n",
              "          element.appendChild(docLink);\n",
              "        }\n",
              "      </script>\n",
              "    </div>\n",
              "  </div>\n",
              "  "
            ],
            "text/plain": [
              "          record_date  AVERAGE_SPEED_DIFF  ...  Weekday  Hour\n",
              "0 2019-08-29 07:00:00                   2  ...        3     7\n",
              "1 2018-08-10 14:00:00                   0  ...        4    14\n",
              "2 2019-09-01 16:00:00                   0  ...        6    16\n",
              "3 2019-02-26 11:00:00                   0  ...        1    11\n",
              "4 2019-06-06 12:00:00                   2  ...        3    12\n",
              "\n",
              "[5 rows x 20 columns]"
            ]
          },
          "metadata": {},
          "execution_count": 137
        }
      ]
    },
    {
      "cell_type": "code",
      "metadata": {
        "id": "ZXodnEXEFmdP"
      },
      "source": [
        "def daypart(hour):\n",
        "  if hour >= 0 and hour < 8:\n",
        "    return \"dawn\"\n",
        "  if hour >= 8 and hour < 9:\n",
        "    return \"morning commute\"\n",
        "  if hour >= 9 and hour < 12:\n",
        "    return \"working hours\"\n",
        "  if hour >= 12 and hour < 14:\n",
        "    return \"lunch break\"\n",
        "  if hour >= 14 and hour < 16:\n",
        "    return \"working hours\"\n",
        "  if hour >= 16 and hour < 18:\n",
        "    return \"end of work\"\n",
        "  if hour >= 18 and hour < 21:\n",
        "    return \"evening\"\n",
        "  if hour >= 21 and hour < 24:\n",
        "    return \"night\""
      ],
      "execution_count": null,
      "outputs": []
    },
    {
      "cell_type": "code",
      "metadata": {
        "id": "q0C2F-iwG7xn"
      },
      "source": [
        "df['Day_Part'] = df['Hour'].apply(daypart)\n",
        "ohe = pd.get_dummies(df['Day_Part'])\n",
        "df = pd.concat([df,ohe], axis=1)\n",
        "dfTest['Day_Part'] = dfTest['Hour'].apply(daypart)\n",
        "ohe = pd.get_dummies(dfTest['Day_Part'])\n",
        "dfTest = pd.concat([dfTest,ohe], axis=1)"
      ],
      "execution_count": null,
      "outputs": []
    },
    {
      "cell_type": "code",
      "metadata": {
        "id": "8CCLW7iW8-tW"
      },
      "source": [
        "#f['Is_Summer'] = df['Month'].apply(lambda x : 1 if x in range(6,9) else 0)\n",
        "#dfTest['Is_Summer'] = dfTest['Month'].apply(lambda x : 1 if x in range(6,9) else 0)\n",
        "#df['Is_Weekend'] = df['Weekday'].apply(lambda x : 1 if x in [5,6] else 0)\n",
        "#dfTest['Is_Weekend'] = dfTest['Weekday'].apply(lambda x : 1 if x in [5,6] else 0)"
      ],
      "execution_count": null,
      "outputs": []
    },
    {
      "cell_type": "code",
      "metadata": {
        "colab": {
          "base_uri": "https://localhost:8080/",
          "height": 392
        },
        "id": "VQSphGC6IFFP",
        "outputId": "0c1cd902-47c7-4ff3-b3bb-f5d116df5bfb"
      },
      "source": [
        "df.head()"
      ],
      "execution_count": null,
      "outputs": [
        {
          "output_type": "execute_result",
          "data": {
            "text/html": [
              "\n",
              "  <div id=\"df-ee195eef-cf4d-4928-955c-440787220ebf\">\n",
              "    <div class=\"colab-df-container\">\n",
              "      <div>\n",
              "<style scoped>\n",
              "    .dataframe tbody tr th:only-of-type {\n",
              "        vertical-align: middle;\n",
              "    }\n",
              "\n",
              "    .dataframe tbody tr th {\n",
              "        vertical-align: top;\n",
              "    }\n",
              "\n",
              "    .dataframe thead th {\n",
              "        text-align: right;\n",
              "    }\n",
              "</style>\n",
              "<table border=\"1\" class=\"dataframe\">\n",
              "  <thead>\n",
              "    <tr style=\"text-align: right;\">\n",
              "      <th></th>\n",
              "      <th>record_date</th>\n",
              "      <th>AVERAGE_SPEED_DIFF</th>\n",
              "      <th>AVERAGE_FREE_FLOW_SPEED</th>\n",
              "      <th>AVERAGE_TIME_DIFF</th>\n",
              "      <th>AVERAGE_FREE_FLOW_TIME</th>\n",
              "      <th>LUMINOSITY</th>\n",
              "      <th>AVERAGE_TEMPERATURE</th>\n",
              "      <th>AVERAGE_ATMOSP_PRESSURE</th>\n",
              "      <th>AVERAGE_HUMIDITY</th>\n",
              "      <th>AVERAGE_WIND_SPEED</th>\n",
              "      <th>AVERAGE_RAIN</th>\n",
              "      <th>algumas nuvens</th>\n",
              "      <th>céu claro</th>\n",
              "      <th>desconhecido</th>\n",
              "      <th>nuvens quebradas</th>\n",
              "      <th>tempo nublado</th>\n",
              "      <th>Month</th>\n",
              "      <th>Week</th>\n",
              "      <th>Weekday</th>\n",
              "      <th>Hour</th>\n",
              "      <th>Day_Part</th>\n",
              "      <th>dawn</th>\n",
              "      <th>end of work</th>\n",
              "      <th>evening</th>\n",
              "      <th>lunch break</th>\n",
              "      <th>morning commute</th>\n",
              "      <th>night</th>\n",
              "      <th>working hours</th>\n",
              "    </tr>\n",
              "  </thead>\n",
              "  <tbody>\n",
              "    <tr>\n",
              "      <th>0</th>\n",
              "      <td>2019-08-29 07:00:00</td>\n",
              "      <td>2</td>\n",
              "      <td>41.5</td>\n",
              "      <td>11.5</td>\n",
              "      <td>71.4</td>\n",
              "      <td>2</td>\n",
              "      <td>15.0</td>\n",
              "      <td>1019.0</td>\n",
              "      <td>100.0</td>\n",
              "      <td>3.0</td>\n",
              "      <td>NaN</td>\n",
              "      <td>0</td>\n",
              "      <td>0</td>\n",
              "      <td>1</td>\n",
              "      <td>0</td>\n",
              "      <td>0</td>\n",
              "      <td>8</td>\n",
              "      <td>35</td>\n",
              "      <td>3</td>\n",
              "      <td>7</td>\n",
              "      <td>dawn</td>\n",
              "      <td>1</td>\n",
              "      <td>0</td>\n",
              "      <td>0</td>\n",
              "      <td>0</td>\n",
              "      <td>0</td>\n",
              "      <td>0</td>\n",
              "      <td>0</td>\n",
              "    </tr>\n",
              "    <tr>\n",
              "      <th>1</th>\n",
              "      <td>2018-08-10 14:00:00</td>\n",
              "      <td>0</td>\n",
              "      <td>41.7</td>\n",
              "      <td>48.3</td>\n",
              "      <td>87.4</td>\n",
              "      <td>2</td>\n",
              "      <td>21.0</td>\n",
              "      <td>1021.0</td>\n",
              "      <td>53.0</td>\n",
              "      <td>5.0</td>\n",
              "      <td>NaN</td>\n",
              "      <td>0</td>\n",
              "      <td>1</td>\n",
              "      <td>0</td>\n",
              "      <td>0</td>\n",
              "      <td>0</td>\n",
              "      <td>8</td>\n",
              "      <td>32</td>\n",
              "      <td>4</td>\n",
              "      <td>14</td>\n",
              "      <td>working hours</td>\n",
              "      <td>0</td>\n",
              "      <td>0</td>\n",
              "      <td>0</td>\n",
              "      <td>0</td>\n",
              "      <td>0</td>\n",
              "      <td>0</td>\n",
              "      <td>1</td>\n",
              "    </tr>\n",
              "    <tr>\n",
              "      <th>2</th>\n",
              "      <td>2019-09-01 16:00:00</td>\n",
              "      <td>0</td>\n",
              "      <td>38.6</td>\n",
              "      <td>38.4</td>\n",
              "      <td>85.2</td>\n",
              "      <td>2</td>\n",
              "      <td>26.0</td>\n",
              "      <td>1014.0</td>\n",
              "      <td>61.0</td>\n",
              "      <td>4.0</td>\n",
              "      <td>NaN</td>\n",
              "      <td>0</td>\n",
              "      <td>0</td>\n",
              "      <td>1</td>\n",
              "      <td>0</td>\n",
              "      <td>0</td>\n",
              "      <td>9</td>\n",
              "      <td>35</td>\n",
              "      <td>6</td>\n",
              "      <td>16</td>\n",
              "      <td>end of work</td>\n",
              "      <td>0</td>\n",
              "      <td>1</td>\n",
              "      <td>0</td>\n",
              "      <td>0</td>\n",
              "      <td>0</td>\n",
              "      <td>0</td>\n",
              "      <td>0</td>\n",
              "    </tr>\n",
              "    <tr>\n",
              "      <th>3</th>\n",
              "      <td>2019-02-26 11:00:00</td>\n",
              "      <td>0</td>\n",
              "      <td>37.4</td>\n",
              "      <td>61.0</td>\n",
              "      <td>94.1</td>\n",
              "      <td>2</td>\n",
              "      <td>18.0</td>\n",
              "      <td>1025.0</td>\n",
              "      <td>48.0</td>\n",
              "      <td>4.0</td>\n",
              "      <td>NaN</td>\n",
              "      <td>0</td>\n",
              "      <td>1</td>\n",
              "      <td>0</td>\n",
              "      <td>0</td>\n",
              "      <td>0</td>\n",
              "      <td>2</td>\n",
              "      <td>9</td>\n",
              "      <td>1</td>\n",
              "      <td>11</td>\n",
              "      <td>working hours</td>\n",
              "      <td>0</td>\n",
              "      <td>0</td>\n",
              "      <td>0</td>\n",
              "      <td>0</td>\n",
              "      <td>0</td>\n",
              "      <td>0</td>\n",
              "      <td>1</td>\n",
              "    </tr>\n",
              "    <tr>\n",
              "      <th>4</th>\n",
              "      <td>2019-06-06 12:00:00</td>\n",
              "      <td>2</td>\n",
              "      <td>41.6</td>\n",
              "      <td>50.4</td>\n",
              "      <td>77.0</td>\n",
              "      <td>2</td>\n",
              "      <td>15.0</td>\n",
              "      <td>1008.0</td>\n",
              "      <td>82.0</td>\n",
              "      <td>10.0</td>\n",
              "      <td>NaN</td>\n",
              "      <td>0</td>\n",
              "      <td>0</td>\n",
              "      <td>1</td>\n",
              "      <td>0</td>\n",
              "      <td>0</td>\n",
              "      <td>6</td>\n",
              "      <td>23</td>\n",
              "      <td>3</td>\n",
              "      <td>12</td>\n",
              "      <td>lunch break</td>\n",
              "      <td>0</td>\n",
              "      <td>0</td>\n",
              "      <td>0</td>\n",
              "      <td>1</td>\n",
              "      <td>0</td>\n",
              "      <td>0</td>\n",
              "      <td>0</td>\n",
              "    </tr>\n",
              "  </tbody>\n",
              "</table>\n",
              "</div>\n",
              "      <button class=\"colab-df-convert\" onclick=\"convertToInteractive('df-ee195eef-cf4d-4928-955c-440787220ebf')\"\n",
              "              title=\"Convert this dataframe to an interactive table.\"\n",
              "              style=\"display:none;\">\n",
              "        \n",
              "  <svg xmlns=\"http://www.w3.org/2000/svg\" height=\"24px\"viewBox=\"0 0 24 24\"\n",
              "       width=\"24px\">\n",
              "    <path d=\"M0 0h24v24H0V0z\" fill=\"none\"/>\n",
              "    <path d=\"M18.56 5.44l.94 2.06.94-2.06 2.06-.94-2.06-.94-.94-2.06-.94 2.06-2.06.94zm-11 1L8.5 8.5l.94-2.06 2.06-.94-2.06-.94L8.5 2.5l-.94 2.06-2.06.94zm10 10l.94 2.06.94-2.06 2.06-.94-2.06-.94-.94-2.06-.94 2.06-2.06.94z\"/><path d=\"M17.41 7.96l-1.37-1.37c-.4-.4-.92-.59-1.43-.59-.52 0-1.04.2-1.43.59L10.3 9.45l-7.72 7.72c-.78.78-.78 2.05 0 2.83L4 21.41c.39.39.9.59 1.41.59.51 0 1.02-.2 1.41-.59l7.78-7.78 2.81-2.81c.8-.78.8-2.07 0-2.86zM5.41 20L4 18.59l7.72-7.72 1.47 1.35L5.41 20z\"/>\n",
              "  </svg>\n",
              "      </button>\n",
              "      \n",
              "  <style>\n",
              "    .colab-df-container {\n",
              "      display:flex;\n",
              "      flex-wrap:wrap;\n",
              "      gap: 12px;\n",
              "    }\n",
              "\n",
              "    .colab-df-convert {\n",
              "      background-color: #E8F0FE;\n",
              "      border: none;\n",
              "      border-radius: 50%;\n",
              "      cursor: pointer;\n",
              "      display: none;\n",
              "      fill: #1967D2;\n",
              "      height: 32px;\n",
              "      padding: 0 0 0 0;\n",
              "      width: 32px;\n",
              "    }\n",
              "\n",
              "    .colab-df-convert:hover {\n",
              "      background-color: #E2EBFA;\n",
              "      box-shadow: 0px 1px 2px rgba(60, 64, 67, 0.3), 0px 1px 3px 1px rgba(60, 64, 67, 0.15);\n",
              "      fill: #174EA6;\n",
              "    }\n",
              "\n",
              "    [theme=dark] .colab-df-convert {\n",
              "      background-color: #3B4455;\n",
              "      fill: #D2E3FC;\n",
              "    }\n",
              "\n",
              "    [theme=dark] .colab-df-convert:hover {\n",
              "      background-color: #434B5C;\n",
              "      box-shadow: 0px 1px 3px 1px rgba(0, 0, 0, 0.15);\n",
              "      filter: drop-shadow(0px 1px 2px rgba(0, 0, 0, 0.3));\n",
              "      fill: #FFFFFF;\n",
              "    }\n",
              "  </style>\n",
              "\n",
              "      <script>\n",
              "        const buttonEl =\n",
              "          document.querySelector('#df-ee195eef-cf4d-4928-955c-440787220ebf button.colab-df-convert');\n",
              "        buttonEl.style.display =\n",
              "          google.colab.kernel.accessAllowed ? 'block' : 'none';\n",
              "\n",
              "        async function convertToInteractive(key) {\n",
              "          const element = document.querySelector('#df-ee195eef-cf4d-4928-955c-440787220ebf');\n",
              "          const dataTable =\n",
              "            await google.colab.kernel.invokeFunction('convertToInteractive',\n",
              "                                                     [key], {});\n",
              "          if (!dataTable) return;\n",
              "\n",
              "          const docLinkHtml = 'Like what you see? Visit the ' +\n",
              "            '<a target=\"_blank\" href=https://colab.research.google.com/notebooks/data_table.ipynb>data table notebook</a>'\n",
              "            + ' to learn more about interactive tables.';\n",
              "          element.innerHTML = '';\n",
              "          dataTable['output_type'] = 'display_data';\n",
              "          await google.colab.output.renderOutput(dataTable, element);\n",
              "          const docLink = document.createElement('div');\n",
              "          docLink.innerHTML = docLinkHtml;\n",
              "          element.appendChild(docLink);\n",
              "        }\n",
              "      </script>\n",
              "    </div>\n",
              "  </div>\n",
              "  "
            ],
            "text/plain": [
              "          record_date  AVERAGE_SPEED_DIFF  ...  night  working hours\n",
              "0 2019-08-29 07:00:00                   2  ...      0              0\n",
              "1 2018-08-10 14:00:00                   0  ...      0              1\n",
              "2 2019-09-01 16:00:00                   0  ...      0              0\n",
              "3 2019-02-26 11:00:00                   0  ...      0              1\n",
              "4 2019-06-06 12:00:00                   2  ...      0              0\n",
              "\n",
              "[5 rows x 28 columns]"
            ]
          },
          "metadata": {},
          "execution_count": 142
        }
      ]
    },
    {
      "cell_type": "code",
      "source": [
        "def mean_imputation_outliers(df,field):\n",
        "  q1 = df[field].quantile(0.25)\n",
        "  q3 = df[field].quantile(0.75)\n",
        "  iqr = q3 - q1\n",
        "  df.replace(df[df[field] > (iqr + np.percentile(df[field],75))].index,np.mean(df[field]), inplace=True)\n",
        "  df.replace(df[df[field] < (np.percentile(df[field],25)- iqr)].index,np.mean(df[field]), inplace=True)"
      ],
      "metadata": {
        "id": "8E3ht7xQjEzN"
      },
      "execution_count": null,
      "outputs": []
    },
    {
      "cell_type": "code",
      "metadata": {
        "id": "bcREBOR4ty92"
      },
      "source": [
        "x_train = df.drop(['record_date','AVERAGE_SPEED_DIFF','AVERAGE_RAIN','Day_Part',\n",
        "             'AVERAGE_HUMIDITY', 'AVERAGE_WIND_SPEED'], axis=1)\n",
        "y_train = df['AVERAGE_SPEED_DIFF']\n",
        "x_test = dfTest.drop(['record_date','AVERAGE_RAIN','Day_Part',\n",
        "             'AVERAGE_HUMIDITY', 'AVERAGE_WIND_SPEED'], axis=1)"
      ],
      "execution_count": null,
      "outputs": []
    },
    {
      "cell_type": "code",
      "metadata": {
        "id": "9X1q3Y7z1x83"
      },
      "source": [
        "from xgboost import XGBClassifier\n",
        "modelxgb = XGBClassifier(learning_rate =0.1,\n",
        "                      n_estimators=100,\n",
        "                      max_depth = 9,\n",
        "                      min_child_weight = 13,\n",
        "                      gamma=0.4,\n",
        "                      subsample=0.6,\n",
        "                      colsample_bytree=0.7,\n",
        "                      reg_alpha=0.0001,\n",
        "                      scale_pos_weight=1)"
      ],
      "execution_count": null,
      "outputs": []
    },
    {
      "cell_type": "code",
      "source": [
        "from sklearn.model_selection import cross_val_score"
      ],
      "metadata": {
        "id": "c55adoksmi6d"
      },
      "execution_count": null,
      "outputs": []
    },
    {
      "cell_type": "code",
      "source": [
        "scores = cross_val_score(modelxgb,x_train,np.ravel(y_train),cv=10)\n",
        "print(\"%0.2f acc with stdv of %0.2f\"% (scores.mean()*100,scores.std()*100))"
      ],
      "metadata": {
        "colab": {
          "base_uri": "https://localhost:8080/"
        },
        "id": "V7Wl-YlIlwNm",
        "outputId": "045fb79f-a180-4520-9102-2d997d537ac9"
      },
      "execution_count": null,
      "outputs": [
        {
          "output_type": "stream",
          "name": "stdout",
          "text": [
            "81.36 acc with stdv of 0.68\n"
          ]
        }
      ]
    },
    {
      "cell_type": "code",
      "metadata": {
        "colab": {
          "base_uri": "https://localhost:8080/"
        },
        "id": "s8Oe4kJ915Z6",
        "outputId": "224e03f7-983c-4d1a-ea53-f084be51b8ff"
      },
      "source": [
        "modelxgb.fit(x_train,y_train)"
      ],
      "execution_count": null,
      "outputs": [
        {
          "output_type": "execute_result",
          "data": {
            "text/plain": [
              "XGBClassifier(colsample_bytree=0.7, gamma=0.4, max_depth=9, min_child_weight=13,\n",
              "              objective='multi:softprob', reg_alpha=0.0001, subsample=0.6)"
            ]
          },
          "metadata": {},
          "execution_count": 148
        }
      ]
    },
    {
      "cell_type": "code",
      "metadata": {
        "id": "An3v-BjJ1_My"
      },
      "source": [
        "predictions = modelxgb.predict(x_test)\n",
        "predictions = le.inverse_transform(predictions)"
      ],
      "execution_count": null,
      "outputs": []
    },
    {
      "cell_type": "code",
      "metadata": {
        "id": "1YRPfh5G2KcM"
      },
      "source": [
        "answer = pd.DataFrame()\n",
        "answer['RowId'] = range(1,1501)\n",
        "answer['Speed_Diff'] = predictions\n",
        "answer.to_csv('outxgb.csv', index=None)"
      ],
      "execution_count": null,
      "outputs": []
    },
    {
      "cell_type": "code",
      "metadata": {
        "id": "x9O8LrW7Lb-B"
      },
      "source": [
        "import tensorflow as tf"
      ],
      "execution_count": null,
      "outputs": []
    },
    {
      "cell_type": "code",
      "metadata": {
        "id": "O0YiOBlhLR3d"
      },
      "source": [
        "from tensorflow.keras.models import Sequential\n",
        "from tensorflow.keras.layers import Dense, Dropout, BatchNormalization\n",
        "from tensorflow.keras.wrappers.scikit_learn import KerasRegressor\n",
        "from sklearn.model_selection import GridSearchCV, KFold, train_test_split\n",
        "from sklearn.preprocessing import MinMaxScaler\n",
        "from tensorflow import keras"
      ],
      "execution_count": null,
      "outputs": []
    },
    {
      "cell_type": "code",
      "metadata": {
        "id": "bj3OU8nZJ6fo"
      },
      "source": [
        "def build_model(activation='relu', learning_rate=0.01):\n",
        "  model = Sequential()\n",
        "  model.add(Dense(128, activation=activation, input_dim=len(x_train.columns)))\n",
        "  model.add(Dense(64, activation=activation))\n",
        "  model.add(Dense(32, activation=activation))\n",
        "  model.add(Dense(16, activation=activation))\n",
        "  model.add(Dense(8, activation=activation))\n",
        "  model.add(keras.layers.Flatten())\n",
        "  model.add(keras.layers.Dense(128, activation = \"relu\"))\n",
        "  model.add(Dense(1, activation='softmax'))\n",
        "  model.compile(optimizer=\"adam\",\n",
        "              loss='categorical_crossentropy',\n",
        "              metrics=['acc'])\n",
        "  return model"
      ],
      "execution_count": null,
      "outputs": []
    },
    {
      "cell_type": "code",
      "metadata": {
        "id": "PpKIRaH5QN66",
        "colab": {
          "base_uri": "https://localhost:8080/"
        },
        "outputId": "a4ffda5e-7ed5-4a49-878e-0a203a149851"
      },
      "source": [
        "x_train.shape"
      ],
      "execution_count": null,
      "outputs": [
        {
          "output_type": "execute_result",
          "data": {
            "text/plain": [
              "(6812, 22)"
            ]
          },
          "metadata": {},
          "execution_count": 154
        }
      ]
    },
    {
      "cell_type": "code",
      "metadata": {
        "id": "ub4tm7whOVcd"
      },
      "source": [
        "scaler_x_train = MinMaxScaler(feature_range=(0,1)).fit(x_train)\n",
        "scaler_y_train = MinMaxScaler(feature_range=(0,1)).fit(y_train.values.reshape(-1,1))\n",
        "scaler_x_test = MinMaxScaler(feature_range=(0,1)).fit(x_test)"
      ],
      "execution_count": null,
      "outputs": []
    },
    {
      "cell_type": "code",
      "metadata": {
        "id": "MlpJej7nRwOx"
      },
      "source": [
        "scaled_x_train = pd.DataFrame(scaler_x_train.transform(x_train[x_train.columns]), columns=x_train.columns)\n",
        "scaled_y_train = pd.DataFrame(scaler_y_train.transform(y_train.values.reshape(-1,1)), columns=['Speed_Diff'])\n",
        "scaled_x_test = pd.DataFrame(scaler_x_test.transform(x_test[x_test.columns]), columns=x_test.columns)"
      ],
      "execution_count": null,
      "outputs": []
    },
    {
      "cell_type": "code",
      "metadata": {
        "id": "MJYmyPAxSeHu"
      },
      "source": [
        "params = {\n",
        "    'activation' : ['relu'],\n",
        "    'learning_rate' : [0.001, 0.01]\n",
        "}"
      ],
      "execution_count": null,
      "outputs": []
    },
    {
      "cell_type": "code",
      "metadata": {
        "id": "UqdQatIuSqvk",
        "colab": {
          "base_uri": "https://localhost:8080/"
        },
        "outputId": "93568cf7-14c8-4644-cea5-08722a85557c"
      },
      "source": [
        "kf = KFold(n_splits=5, shuffle=True, random_state=2021)\n",
        "model = KerasRegressor(build_fn=build_model, epochs=5, batch_size=20)\n",
        "gs = GridSearchCV( estimator=model,\n",
        "                  param_grid= params,\n",
        "                  cv = kf,\n",
        "                  scoring='accuracy',\n",
        "                  refit='True',\n",
        "                  verbose=1)\n",
        "#gs.fit(scaled_x_train,scaled_y_train, validation_split=0.2, verbose=1)"
      ],
      "execution_count": null,
      "outputs": [
        {
          "output_type": "stream",
          "name": "stderr",
          "text": [
            "/usr/local/lib/python3.7/dist-packages/ipykernel_launcher.py:2: DeprecationWarning: KerasRegressor is deprecated, use Sci-Keras (https://github.com/adriangb/scikeras) instead.\n",
            "  \n"
          ]
        }
      ]
    },
    {
      "cell_type": "code",
      "source": [
        "#gs.best_params_"
      ],
      "metadata": {
        "id": "wFbRvMmWvWxZ"
      },
      "execution_count": null,
      "outputs": []
    },
    {
      "cell_type": "code",
      "metadata": {
        "id": "taULRfon8fgb"
      },
      "source": [
        "param_grid = {'C': [0.1, 1 , 10, 100,1000],\n",
        "              'gamma':[1, 0.1,0.01,0.001, 0.0001],\n",
        "              'kernel':['rbf','linear']}"
      ],
      "execution_count": null,
      "outputs": []
    },
    {
      "cell_type": "code",
      "metadata": {
        "id": "sLU8pqBg9x91"
      },
      "source": [
        "from sklearn.model_selection import GridSearchCV"
      ],
      "execution_count": null,
      "outputs": []
    },
    {
      "cell_type": "code",
      "metadata": {
        "id": "5m73HQSMZsuO"
      },
      "source": [
        "from sklearn.tree import DecisionTreeClassifier"
      ],
      "execution_count": null,
      "outputs": []
    },
    {
      "cell_type": "code",
      "metadata": {
        "id": "MQKa3ckfZ4fN"
      },
      "source": [
        "dtc = DecisionTreeClassifier(random_state=2021)"
      ],
      "execution_count": null,
      "outputs": []
    },
    {
      "cell_type": "code",
      "metadata": {
        "id": "VKh--Ms8Z7Yb"
      },
      "source": [
        "params = {\n",
        "    'max_depth': [2, 3, 5, 10, 20],\n",
        "    'min_samples_leaf': [5, 10, 20, 50, 100],\n",
        "    'criterion': [\"gini\", \"entropy\"]\n",
        "}"
      ],
      "execution_count": null,
      "outputs": []
    },
    {
      "cell_type": "code",
      "metadata": {
        "id": "fO5mWRSyaCS2"
      },
      "source": [
        "grid_search = GridSearchCV(estimator=dtc, \n",
        "                           param_grid=params, \n",
        "                           cv=10, verbose=3, scoring = \"accuracy\")"
      ],
      "execution_count": null,
      "outputs": []
    },
    {
      "cell_type": "code",
      "metadata": {
        "id": "w5PavEPoaKCC"
      },
      "source": [
        "#grid_search.fit(x_train, y_train)"
      ],
      "execution_count": null,
      "outputs": []
    },
    {
      "cell_type": "code",
      "metadata": {
        "id": "akwI4p0PaOLC"
      },
      "source": [
        "#grid_search.best_params_"
      ],
      "execution_count": null,
      "outputs": []
    },
    {
      "cell_type": "code",
      "metadata": {
        "id": "pcMcDXKLaUui",
        "colab": {
          "base_uri": "https://localhost:8080/"
        },
        "outputId": "c7a2b0c7-d341-449a-c07a-6bd4a1ff5382"
      },
      "source": [
        "#treemodel = grid_search.best_estimator_\n",
        "treemodel = DecisionTreeClassifier(criterion= 'gini',\n",
        "                                   max_depth= 10,\n",
        "                                   min_samples_leaf= 20)\n",
        "scores = cross_val_score(treemodel,x_train,np.ravel(y_train),cv=10)\n",
        "print(\"%0.2f acc with stdv of %0.2f\"% (scores.mean()*100,scores.std()*100))\n",
        "treemodel.fit(x_train,y_train)\n",
        "predictions = treemodel.predict(x_test)\n",
        "predictions = le.inverse_transform(predictions)"
      ],
      "execution_count": null,
      "outputs": [
        {
          "output_type": "stream",
          "name": "stdout",
          "text": [
            "77.51 acc with stdv of 0.98\n"
          ]
        }
      ]
    },
    {
      "cell_type": "code",
      "metadata": {
        "id": "iy9-371GasfG"
      },
      "source": [
        "answer = pd.DataFrame()\n",
        "answer['RowId'] = range(1,1501)\n",
        "answer['Speed_Diff'] = predictions\n",
        "answer.to_csv('outtree.csv', index=None)"
      ],
      "execution_count": null,
      "outputs": []
    },
    {
      "cell_type": "code",
      "metadata": {
        "id": "RAelEGIra3yp"
      },
      "source": [
        "param_grid = {'C': [0.1,1, 10, 100, 200],\n",
        "              'gamma': [1,0.1,0.01,0.001,0.0001],\n",
        "              'kernel': ['rbf', 'linear']}"
      ],
      "execution_count": null,
      "outputs": []
    },
    {
      "cell_type": "code",
      "metadata": {
        "id": "Eo7YMRNubxkg"
      },
      "source": [
        "from sklearn.svm import SVC"
      ],
      "execution_count": null,
      "outputs": []
    },
    {
      "cell_type": "code",
      "metadata": {
        "id": "viD0di8TcDxL"
      },
      "source": [
        "svcest = SVC(random_state=2021)"
      ],
      "execution_count": null,
      "outputs": []
    },
    {
      "cell_type": "code",
      "metadata": {
        "id": "yBiD89cBcG2N"
      },
      "source": [
        "grid_search = GridSearchCV(estimator=svcest, \n",
        "                           param_grid=param_grid, \n",
        "                           cv=3, verbose=3, scoring = \"accuracy\")"
      ],
      "execution_count": null,
      "outputs": []
    },
    {
      "cell_type": "code",
      "metadata": {
        "id": "oKxFahyhcP5r"
      },
      "source": [
        "#grid_search.fit(x_train, y_train)"
      ],
      "execution_count": null,
      "outputs": []
    },
    {
      "cell_type": "code",
      "metadata": {
        "id": "fbsOSjCqcR9X"
      },
      "source": [
        "#grid_search.best_params_"
      ],
      "execution_count": null,
      "outputs": []
    },
    {
      "cell_type": "code",
      "metadata": {
        "id": "eeSZT-xAihbc",
        "colab": {
          "base_uri": "https://localhost:8080/"
        },
        "outputId": "bd5f5044-7e93-40cb-973c-c10cea1dfbfd"
      },
      "source": [
        "#svcmodel = grid_search.best_estimator_\n",
        "svcmodel = SVC(C = 10,\n",
        "               gamma = 0.001, \n",
        "               kernel = 'rbf')\n",
        "scores = cross_val_score(svcmodel,x_train,np.ravel(y_train),cv=10)\n",
        "print(\"%0.2f acc with stdv of %0.2f\"% (scores.mean()*100,scores.std()*100))\n",
        "svcmodel.fit(x_train,y_train)\n",
        "predictions = svcmodel.predict(x_test)\n",
        "predictions = le.inverse_transform(predictions)"
      ],
      "execution_count": null,
      "outputs": [
        {
          "output_type": "stream",
          "name": "stdout",
          "text": [
            "79.52 acc with stdv of 0.84\n"
          ]
        }
      ]
    },
    {
      "cell_type": "code",
      "metadata": {
        "id": "hruJDCwjiqCa"
      },
      "source": [
        "answer = pd.DataFrame()\n",
        "answer['RowId'] = range(1,1501)\n",
        "answer['Speed_Diff'] = predictions\n",
        "answer.to_csv('outsvc.csv', index=None)"
      ],
      "execution_count": null,
      "outputs": []
    }
  ]
}